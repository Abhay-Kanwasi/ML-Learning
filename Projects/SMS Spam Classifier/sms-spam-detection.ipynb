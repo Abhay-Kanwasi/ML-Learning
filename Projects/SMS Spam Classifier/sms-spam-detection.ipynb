{
 "cells": [
  {
   "cell_type": "code",
   "execution_count": 2,
   "id": "8e9e2d3a",
   "metadata": {
    "ExecuteTime": {
     "end_time": "2024-04-07T16:33:21.867182160Z",
     "start_time": "2024-04-07T16:33:20.684107343Z"
    }
   },
   "outputs": [],
   "source": [
    "import numpy as np\n",
    "import pandas as pd"
   ]
  },
  {
   "cell_type": "code",
   "execution_count": 3,
   "id": "d660cd48",
   "metadata": {
    "ExecuteTime": {
     "end_time": "2024-04-07T16:33:22.774398367Z",
     "start_time": "2024-04-07T16:33:22.647632303Z"
    }
   },
   "outputs": [],
   "source": [
    "df = pd.read_csv('spam.csv', encoding='ISO-8859-1')"
   ]
  },
  {
   "cell_type": "code",
   "execution_count": 4,
   "id": "c8e3e9cf",
   "metadata": {
    "ExecuteTime": {
     "end_time": "2024-04-07T16:33:23.824153450Z",
     "start_time": "2024-04-07T16:33:23.680657499Z"
    }
   },
   "outputs": [
    {
     "data": {
      "text/plain": "       v1                                                 v2 Unnamed: 2  \\\n27    ham  Did you catch the bus ? Are you frying an egg ...        NaN   \n1439  ham  In fact when do you leave? I think addie goes ...        NaN   \n3199  ham  Just curious because my cuz asked what I was u...        NaN   \n4686  ham                                  Eatin my lunch...        NaN   \n5051  ham  Tick, tick, tick .... Where are you ? I could ...        NaN   \n\n     Unnamed: 3 Unnamed: 4  \n27          NaN        NaN  \n1439        NaN        NaN  \n3199        NaN        NaN  \n4686        NaN        NaN  \n5051        NaN        NaN  ",
      "text/html": "<div>\n<style scoped>\n    .dataframe tbody tr th:only-of-type {\n        vertical-align: middle;\n    }\n\n    .dataframe tbody tr th {\n        vertical-align: top;\n    }\n\n    .dataframe thead th {\n        text-align: right;\n    }\n</style>\n<table border=\"1\" class=\"dataframe\">\n  <thead>\n    <tr style=\"text-align: right;\">\n      <th></th>\n      <th>v1</th>\n      <th>v2</th>\n      <th>Unnamed: 2</th>\n      <th>Unnamed: 3</th>\n      <th>Unnamed: 4</th>\n    </tr>\n  </thead>\n  <tbody>\n    <tr>\n      <th>27</th>\n      <td>ham</td>\n      <td>Did you catch the bus ? Are you frying an egg ...</td>\n      <td>NaN</td>\n      <td>NaN</td>\n      <td>NaN</td>\n    </tr>\n    <tr>\n      <th>1439</th>\n      <td>ham</td>\n      <td>In fact when do you leave? I think addie goes ...</td>\n      <td>NaN</td>\n      <td>NaN</td>\n      <td>NaN</td>\n    </tr>\n    <tr>\n      <th>3199</th>\n      <td>ham</td>\n      <td>Just curious because my cuz asked what I was u...</td>\n      <td>NaN</td>\n      <td>NaN</td>\n      <td>NaN</td>\n    </tr>\n    <tr>\n      <th>4686</th>\n      <td>ham</td>\n      <td>Eatin my lunch...</td>\n      <td>NaN</td>\n      <td>NaN</td>\n      <td>NaN</td>\n    </tr>\n    <tr>\n      <th>5051</th>\n      <td>ham</td>\n      <td>Tick, tick, tick .... Where are you ? I could ...</td>\n      <td>NaN</td>\n      <td>NaN</td>\n      <td>NaN</td>\n    </tr>\n  </tbody>\n</table>\n</div>"
     },
     "execution_count": 4,
     "metadata": {},
     "output_type": "execute_result"
    }
   ],
   "source": [
    "df.sample(5)"
   ]
  },
  {
   "cell_type": "code",
   "execution_count": 5,
   "id": "b4c93050",
   "metadata": {
    "ExecuteTime": {
     "end_time": "2024-04-07T16:33:25.630530220Z",
     "start_time": "2024-04-07T16:33:25.448866254Z"
    }
   },
   "outputs": [
    {
     "data": {
      "text/plain": "(5572, 5)"
     },
     "execution_count": 5,
     "metadata": {},
     "output_type": "execute_result"
    }
   ],
   "source": [
    "df.shape"
   ]
  },
  {
   "cell_type": "code",
   "execution_count": 6,
   "id": "c27b2bd6",
   "metadata": {
    "ExecuteTime": {
     "end_time": "2024-04-07T16:33:26.688705850Z",
     "start_time": "2024-04-07T16:33:26.495008120Z"
    }
   },
   "outputs": [],
   "source": [
    "# 1. Data cleaning\n",
    "# 2. EDA\n",
    "# 3. Text Preprocessing\n",
    "# 4. Model building\n",
    "# 5. Evaluation\n",
    "# 6. Improvement\n",
    "# 7. Website\n",
    "# 8. Deploy"
   ]
  },
  {
   "cell_type": "markdown",
   "id": "2cad57ac",
   "metadata": {},
   "source": [
    "## 1. Data Cleaning"
   ]
  },
  {
   "cell_type": "code",
   "execution_count": 7,
   "id": "3c81e0f5",
   "metadata": {
    "ExecuteTime": {
     "end_time": "2024-04-07T16:33:28.160414801Z",
     "start_time": "2024-04-07T16:33:28.034216048Z"
    }
   },
   "outputs": [
    {
     "name": "stdout",
     "output_type": "stream",
     "text": [
      "<class 'pandas.core.frame.DataFrame'>\n",
      "RangeIndex: 5572 entries, 0 to 5571\n",
      "Data columns (total 5 columns):\n",
      " #   Column      Non-Null Count  Dtype \n",
      "---  ------      --------------  ----- \n",
      " 0   v1          5572 non-null   object\n",
      " 1   v2          5572 non-null   object\n",
      " 2   Unnamed: 2  50 non-null     object\n",
      " 3   Unnamed: 3  12 non-null     object\n",
      " 4   Unnamed: 4  6 non-null      object\n",
      "dtypes: object(5)\n",
      "memory usage: 217.8+ KB\n"
     ]
    }
   ],
   "source": [
    "df.info()"
   ]
  },
  {
   "cell_type": "code",
   "execution_count": 8,
   "id": "fdb73374",
   "metadata": {
    "ExecuteTime": {
     "end_time": "2024-04-07T16:33:28.965674465Z",
     "start_time": "2024-04-07T16:33:28.827226995Z"
    }
   },
   "outputs": [],
   "source": [
    "# drop last 3 cols\n",
    "df.drop(columns=['Unnamed: 2','Unnamed: 3','Unnamed: 4'],inplace=True)"
   ]
  },
  {
   "cell_type": "code",
   "execution_count": 9,
   "id": "b9b463ff",
   "metadata": {
    "ExecuteTime": {
     "end_time": "2024-04-07T16:33:29.713161034Z",
     "start_time": "2024-04-07T16:33:29.579392299Z"
    }
   },
   "outputs": [
    {
     "data": {
      "text/plain": "        v1                                                 v2\n4384  spam  Do you want a New Nokia 3510i Colour Phone Del...\n4135   ham                 have you ever had one foot before?\n857    ham  Hai ana tomarrow am coming on morning.  &lt;DE...\n452    ham  K:)k:)what are detail you want to transfer?acc...\n4695   ham  A guy who gets used but is too dumb to realize...",
      "text/html": "<div>\n<style scoped>\n    .dataframe tbody tr th:only-of-type {\n        vertical-align: middle;\n    }\n\n    .dataframe tbody tr th {\n        vertical-align: top;\n    }\n\n    .dataframe thead th {\n        text-align: right;\n    }\n</style>\n<table border=\"1\" class=\"dataframe\">\n  <thead>\n    <tr style=\"text-align: right;\">\n      <th></th>\n      <th>v1</th>\n      <th>v2</th>\n    </tr>\n  </thead>\n  <tbody>\n    <tr>\n      <th>4384</th>\n      <td>spam</td>\n      <td>Do you want a New Nokia 3510i Colour Phone Del...</td>\n    </tr>\n    <tr>\n      <th>4135</th>\n      <td>ham</td>\n      <td>have you ever had one foot before?</td>\n    </tr>\n    <tr>\n      <th>857</th>\n      <td>ham</td>\n      <td>Hai ana tomarrow am coming on morning.  &amp;lt;DE...</td>\n    </tr>\n    <tr>\n      <th>452</th>\n      <td>ham</td>\n      <td>K:)k:)what are detail you want to transfer?acc...</td>\n    </tr>\n    <tr>\n      <th>4695</th>\n      <td>ham</td>\n      <td>A guy who gets used but is too dumb to realize...</td>\n    </tr>\n  </tbody>\n</table>\n</div>"
     },
     "execution_count": 9,
     "metadata": {},
     "output_type": "execute_result"
    }
   ],
   "source": [
    "df.sample(5)"
   ]
  },
  {
   "cell_type": "code",
   "execution_count": 10,
   "id": "7e902916",
   "metadata": {
    "ExecuteTime": {
     "end_time": "2024-04-07T16:33:30.979968169Z",
     "start_time": "2024-04-07T16:33:30.754272516Z"
    }
   },
   "outputs": [
    {
     "data": {
      "text/plain": "     target                                               text\n4822    ham                                            :-) :-)\n2101    ham  I thk 530 lor. But dunno can get tickets a not...\n3265    ham  tap & spile at seven. * Is that pub on gas st ...\n1892   spam  CALL 09090900040 & LISTEN TO EXTREME DIRTY LIV...\n902     ham  I wonder if your phone battery went dead ? I h...",
      "text/html": "<div>\n<style scoped>\n    .dataframe tbody tr th:only-of-type {\n        vertical-align: middle;\n    }\n\n    .dataframe tbody tr th {\n        vertical-align: top;\n    }\n\n    .dataframe thead th {\n        text-align: right;\n    }\n</style>\n<table border=\"1\" class=\"dataframe\">\n  <thead>\n    <tr style=\"text-align: right;\">\n      <th></th>\n      <th>target</th>\n      <th>text</th>\n    </tr>\n  </thead>\n  <tbody>\n    <tr>\n      <th>4822</th>\n      <td>ham</td>\n      <td>:-) :-)</td>\n    </tr>\n    <tr>\n      <th>2101</th>\n      <td>ham</td>\n      <td>I thk 530 lor. But dunno can get tickets a not...</td>\n    </tr>\n    <tr>\n      <th>3265</th>\n      <td>ham</td>\n      <td>tap &amp; spile at seven. * Is that pub on gas st ...</td>\n    </tr>\n    <tr>\n      <th>1892</th>\n      <td>spam</td>\n      <td>CALL 09090900040 &amp; LISTEN TO EXTREME DIRTY LIV...</td>\n    </tr>\n    <tr>\n      <th>902</th>\n      <td>ham</td>\n      <td>I wonder if your phone battery went dead ? I h...</td>\n    </tr>\n  </tbody>\n</table>\n</div>"
     },
     "execution_count": 10,
     "metadata": {},
     "output_type": "execute_result"
    }
   ],
   "source": [
    "# renaming the cols\n",
    "df.rename(columns={'v1':'target','v2':'text'},inplace=True)\n",
    "df.sample(5)"
   ]
  },
  {
   "cell_type": "code",
   "execution_count": 11,
   "id": "5018a1d7",
   "metadata": {
    "ExecuteTime": {
     "end_time": "2024-04-07T16:33:33.780717001Z",
     "start_time": "2024-04-07T16:33:31.680099655Z"
    }
   },
   "outputs": [],
   "source": [
    "from sklearn.preprocessing import LabelEncoder\n",
    "encoder = LabelEncoder()"
   ]
  },
  {
   "cell_type": "code",
   "execution_count": 12,
   "id": "81d6e7b8",
   "metadata": {
    "ExecuteTime": {
     "end_time": "2024-04-07T16:33:35.162715528Z",
     "start_time": "2024-04-07T16:33:34.901906872Z"
    }
   },
   "outputs": [],
   "source": [
    "df['target'] = encoder.fit_transform(df['target'])"
   ]
  },
  {
   "cell_type": "code",
   "execution_count": 13,
   "id": "06bb183f",
   "metadata": {
    "ExecuteTime": {
     "end_time": "2024-04-07T16:33:36.335345555Z",
     "start_time": "2024-04-07T16:33:36.133899656Z"
    }
   },
   "outputs": [
    {
     "data": {
      "text/plain": "   target                                               text\n0       0  Go until jurong point, crazy.. Available only ...\n1       0                      Ok lar... Joking wif u oni...\n2       1  Free entry in 2 a wkly comp to win FA Cup fina...\n3       0  U dun say so early hor... U c already then say...\n4       0  Nah I don't think he goes to usf, he lives aro...",
      "text/html": "<div>\n<style scoped>\n    .dataframe tbody tr th:only-of-type {\n        vertical-align: middle;\n    }\n\n    .dataframe tbody tr th {\n        vertical-align: top;\n    }\n\n    .dataframe thead th {\n        text-align: right;\n    }\n</style>\n<table border=\"1\" class=\"dataframe\">\n  <thead>\n    <tr style=\"text-align: right;\">\n      <th></th>\n      <th>target</th>\n      <th>text</th>\n    </tr>\n  </thead>\n  <tbody>\n    <tr>\n      <th>0</th>\n      <td>0</td>\n      <td>Go until jurong point, crazy.. Available only ...</td>\n    </tr>\n    <tr>\n      <th>1</th>\n      <td>0</td>\n      <td>Ok lar... Joking wif u oni...</td>\n    </tr>\n    <tr>\n      <th>2</th>\n      <td>1</td>\n      <td>Free entry in 2 a wkly comp to win FA Cup fina...</td>\n    </tr>\n    <tr>\n      <th>3</th>\n      <td>0</td>\n      <td>U dun say so early hor... U c already then say...</td>\n    </tr>\n    <tr>\n      <th>4</th>\n      <td>0</td>\n      <td>Nah I don't think he goes to usf, he lives aro...</td>\n    </tr>\n  </tbody>\n</table>\n</div>"
     },
     "execution_count": 13,
     "metadata": {},
     "output_type": "execute_result"
    }
   ],
   "source": [
    "df.head()"
   ]
  },
  {
   "cell_type": "code",
   "execution_count": 14,
   "id": "6f19b769",
   "metadata": {
    "ExecuteTime": {
     "end_time": "2024-04-07T16:33:37.247052172Z",
     "start_time": "2024-04-07T16:33:37.065033431Z"
    }
   },
   "outputs": [
    {
     "data": {
      "text/plain": "target    0\ntext      0\ndtype: int64"
     },
     "execution_count": 14,
     "metadata": {},
     "output_type": "execute_result"
    }
   ],
   "source": [
    "# missing values\n",
    "df.isnull().sum()"
   ]
  },
  {
   "cell_type": "code",
   "execution_count": 15,
   "id": "ac2b1849",
   "metadata": {
    "ExecuteTime": {
     "end_time": "2024-04-07T16:33:38.281315004Z",
     "start_time": "2024-04-07T16:33:38.083269033Z"
    }
   },
   "outputs": [
    {
     "data": {
      "text/plain": "403"
     },
     "execution_count": 15,
     "metadata": {},
     "output_type": "execute_result"
    }
   ],
   "source": [
    "# check for duplicate values\n",
    "df.duplicated().sum()"
   ]
  },
  {
   "cell_type": "code",
   "execution_count": 16,
   "id": "32622c97",
   "metadata": {
    "ExecuteTime": {
     "end_time": "2024-04-07T16:33:39.414878359Z",
     "start_time": "2024-04-07T16:33:39.283616018Z"
    }
   },
   "outputs": [],
   "source": [
    "# remove duplicates\n",
    "df = df.drop_duplicates(keep='first')"
   ]
  },
  {
   "cell_type": "code",
   "execution_count": 17,
   "id": "a9e7b344",
   "metadata": {
    "ExecuteTime": {
     "end_time": "2024-04-07T16:33:40.400237947Z",
     "start_time": "2024-04-07T16:33:40.271352907Z"
    }
   },
   "outputs": [
    {
     "data": {
      "text/plain": "0"
     },
     "execution_count": 17,
     "metadata": {},
     "output_type": "execute_result"
    }
   ],
   "source": [
    "df.duplicated().sum()"
   ]
  },
  {
   "cell_type": "code",
   "execution_count": 18,
   "id": "4ccdd4b0",
   "metadata": {
    "ExecuteTime": {
     "end_time": "2024-04-07T16:33:41.315430911Z",
     "start_time": "2024-04-07T16:33:41.173028907Z"
    }
   },
   "outputs": [
    {
     "data": {
      "text/plain": "(5169, 2)"
     },
     "execution_count": 18,
     "metadata": {},
     "output_type": "execute_result"
    }
   ],
   "source": [
    "df.shape"
   ]
  },
  {
   "cell_type": "markdown",
   "id": "fb8bd6d6",
   "metadata": {},
   "source": [
    "## 2.EDA"
   ]
  },
  {
   "cell_type": "code",
   "execution_count": 19,
   "id": "7dc565ad",
   "metadata": {
    "ExecuteTime": {
     "end_time": "2024-04-07T16:33:43.131108846Z",
     "start_time": "2024-04-07T16:33:42.938139455Z"
    }
   },
   "outputs": [
    {
     "data": {
      "text/plain": "   target                                               text\n0       0  Go until jurong point, crazy.. Available only ...\n1       0                      Ok lar... Joking wif u oni...\n2       1  Free entry in 2 a wkly comp to win FA Cup fina...\n3       0  U dun say so early hor... U c already then say...\n4       0  Nah I don't think he goes to usf, he lives aro...",
      "text/html": "<div>\n<style scoped>\n    .dataframe tbody tr th:only-of-type {\n        vertical-align: middle;\n    }\n\n    .dataframe tbody tr th {\n        vertical-align: top;\n    }\n\n    .dataframe thead th {\n        text-align: right;\n    }\n</style>\n<table border=\"1\" class=\"dataframe\">\n  <thead>\n    <tr style=\"text-align: right;\">\n      <th></th>\n      <th>target</th>\n      <th>text</th>\n    </tr>\n  </thead>\n  <tbody>\n    <tr>\n      <th>0</th>\n      <td>0</td>\n      <td>Go until jurong point, crazy.. Available only ...</td>\n    </tr>\n    <tr>\n      <th>1</th>\n      <td>0</td>\n      <td>Ok lar... Joking wif u oni...</td>\n    </tr>\n    <tr>\n      <th>2</th>\n      <td>1</td>\n      <td>Free entry in 2 a wkly comp to win FA Cup fina...</td>\n    </tr>\n    <tr>\n      <th>3</th>\n      <td>0</td>\n      <td>U dun say so early hor... U c already then say...</td>\n    </tr>\n    <tr>\n      <th>4</th>\n      <td>0</td>\n      <td>Nah I don't think he goes to usf, he lives aro...</td>\n    </tr>\n  </tbody>\n</table>\n</div>"
     },
     "execution_count": 19,
     "metadata": {},
     "output_type": "execute_result"
    }
   ],
   "source": [
    "df.head()"
   ]
  },
  {
   "cell_type": "code",
   "execution_count": 20,
   "id": "f49b1fcb",
   "metadata": {
    "ExecuteTime": {
     "end_time": "2024-04-07T16:33:43.911494547Z",
     "start_time": "2024-04-07T16:33:43.749465311Z"
    }
   },
   "outputs": [
    {
     "data": {
      "text/plain": "target\n0    4516\n1     653\nName: count, dtype: int64"
     },
     "execution_count": 20,
     "metadata": {},
     "output_type": "execute_result"
    }
   ],
   "source": [
    "df['target'].value_counts()"
   ]
  },
  {
   "cell_type": "code",
   "execution_count": 21,
   "id": "b8cc21ab",
   "metadata": {
    "ExecuteTime": {
     "end_time": "2024-04-07T16:33:46.593929517Z",
     "start_time": "2024-04-07T16:33:44.717064999Z"
    }
   },
   "outputs": [
    {
     "data": {
      "text/plain": "<Figure size 640x480 with 1 Axes>",
      "image/png": "[encoded data removed]"
     },
     "metadata": {},
     "output_type": "display_data"
    }
   ],
   "source": [
    "import matplotlib.pyplot as plt\n",
    "plt.pie(df['target'].value_counts(), labels=['ham','spam'],autopct=\"%0.2f\")\n",
    "plt.show()"
   ]
  },
  {
   "cell_type": "code",
   "execution_count": 22,
   "id": "f6f0f92f",
   "metadata": {
    "ExecuteTime": {
     "end_time": "2024-04-07T16:33:47.673614391Z",
     "start_time": "2024-04-07T16:33:47.501815501Z"
    }
   },
   "outputs": [],
   "source": [
    "# Data is imbalanced"
   ]
  },
  {
   "cell_type": "code",
   "execution_count": 25,
   "id": "a3af6e80",
   "metadata": {
    "ExecuteTime": {
     "end_time": "2024-04-07T16:34:01.657517718Z",
     "start_time": "2024-04-07T16:34:00.669991828Z"
    }
   },
   "outputs": [],
   "source": [
    "import nltk"
   ]
  },
  {
   "cell_type": "code",
   "execution_count": 26,
   "id": "0c31cde0",
   "metadata": {
    "ExecuteTime": {
     "end_time": "2024-04-07T16:34:06.323944017Z",
     "start_time": "2024-04-07T16:34:01.562764967Z"
    }
   },
   "outputs": [
    {
     "name": "stdout",
     "output_type": "stream",
     "text": [
      "Requirement already satisfied: nltk in /home/abhay/Desktop/Personal/ML-Learning/Projects/venv/lib/python3.10/site-packages (3.8.1)\r\n",
      "Requirement already satisfied: tqdm in /home/abhay/Desktop/Personal/ML-Learning/Projects/venv/lib/python3.10/site-packages (from nltk) (4.66.2)\r\n",
      "Requirement already satisfied: regex>=2021.8.3 in /home/abhay/Desktop/Personal/ML-Learning/Projects/venv/lib/python3.10/site-packages (from nltk) (2023.12.25)\r\n",
      "Requirement already satisfied: click in /home/abhay/Desktop/Personal/ML-Learning/Projects/venv/lib/python3.10/site-packages (from nltk) (8.1.7)\r\n",
      "Requirement already satisfied: joblib in /home/abhay/Desktop/Personal/ML-Learning/Projects/venv/lib/python3.10/site-packages (from nltk) (1.3.2)\r\n"
     ]
    }
   ],
   "source": [
    "!pip install nltk"
   ]
  },
  {
   "cell_type": "code",
   "execution_count": 27,
   "id": "e6502f8d",
   "metadata": {
    "ExecuteTime": {
     "end_time": "2024-04-07T16:34:06.856591140Z",
     "start_time": "2024-04-07T16:34:06.333250176Z"
    }
   },
   "outputs": [
    {
     "name": "stderr",
     "output_type": "stream",
     "text": [
      "[nltk_data] Downloading package punkt to /home/abhay/nltk_data...\n",
      "[nltk_data]   Package punkt is already up-to-date!\n"
     ]
    },
    {
     "data": {
      "text/plain": "True"
     },
     "execution_count": 27,
     "metadata": {},
     "output_type": "execute_result"
    }
   ],
   "source": [
    "nltk.download('punkt')"
   ]
  },
  {
   "cell_type": "code",
   "execution_count": 28,
   "id": "35152bc6",
   "metadata": {
    "ExecuteTime": {
     "end_time": "2024-04-07T16:34:10.121032892Z",
     "start_time": "2024-04-07T16:34:10.013352465Z"
    }
   },
   "outputs": [],
   "source": [
    "df['num_characters'] = df['text'].apply(len)"
   ]
  },
  {
   "cell_type": "code",
   "execution_count": 29,
   "id": "3a2a2606",
   "metadata": {
    "ExecuteTime": {
     "end_time": "2024-04-07T16:34:12.181432641Z",
     "start_time": "2024-04-07T16:34:11.848532731Z"
    }
   },
   "outputs": [
    {
     "data": {
      "text/plain": "   target                                               text  num_characters\n0       0  Go until jurong point, crazy.. Available only ...             111\n1       0                      Ok lar... Joking wif u oni...              29\n2       1  Free entry in 2 a wkly comp to win FA Cup fina...             155\n3       0  U dun say so early hor... U c already then say...              49\n4       0  Nah I don't think he goes to usf, he lives aro...              61",
      "text/html": "<div>\n<style scoped>\n    .dataframe tbody tr th:only-of-type {\n        vertical-align: middle;\n    }\n\n    .dataframe tbody tr th {\n        vertical-align: top;\n    }\n\n    .dataframe thead th {\n        text-align: right;\n    }\n</style>\n<table border=\"1\" class=\"dataframe\">\n  <thead>\n    <tr style=\"text-align: right;\">\n      <th></th>\n      <th>target</th>\n      <th>text</th>\n      <th>num_characters</th>\n    </tr>\n  </thead>\n  <tbody>\n    <tr>\n      <th>0</th>\n      <td>0</td>\n      <td>Go until jurong point, crazy.. Available only ...</td>\n      <td>111</td>\n    </tr>\n    <tr>\n      <th>1</th>\n      <td>0</td>\n      <td>Ok lar... Joking wif u oni...</td>\n      <td>29</td>\n    </tr>\n    <tr>\n      <th>2</th>\n      <td>1</td>\n      <td>Free entry in 2 a wkly comp to win FA Cup fina...</td>\n      <td>155</td>\n    </tr>\n    <tr>\n      <th>3</th>\n      <td>0</td>\n      <td>U dun say so early hor... U c already then say...</td>\n      <td>49</td>\n    </tr>\n    <tr>\n      <th>4</th>\n      <td>0</td>\n      <td>Nah I don't think he goes to usf, he lives aro...</td>\n      <td>61</td>\n    </tr>\n  </tbody>\n</table>\n</div>"
     },
     "execution_count": 29,
     "metadata": {},
     "output_type": "execute_result"
    }
   ],
   "source": [
    "df.head()"
   ]
  },
  {
   "cell_type": "code",
   "execution_count": 30,
   "id": "8318ea23",
   "metadata": {
    "ExecuteTime": {
     "end_time": "2024-04-07T16:34:15.696649628Z",
     "start_time": "2024-04-07T16:34:14.107949799Z"
    }
   },
   "outputs": [],
   "source": [
    "# num of words\n",
    "df['num_words'] = df['text'].apply(lambda x:len(nltk.word_tokenize(x)))"
   ]
  },
  {
   "cell_type": "code",
   "execution_count": 31,
   "id": "920e699e",
   "metadata": {
    "ExecuteTime": {
     "end_time": "2024-04-07T16:34:16.504573668Z",
     "start_time": "2024-04-07T16:34:16.393859591Z"
    }
   },
   "outputs": [
    {
     "data": {
      "text/plain": "   target                                               text  num_characters  \\\n0       0  Go until jurong point, crazy.. Available only ...             111   \n1       0                      Ok lar... Joking wif u oni...              29   \n2       1  Free entry in 2 a wkly comp to win FA Cup fina...             155   \n3       0  U dun say so early hor... U c already then say...              49   \n4       0  Nah I don't think he goes to usf, he lives aro...              61   \n\n   num_words  \n0         24  \n1          8  \n2         37  \n3         13  \n4         15  ",
      "text/html": "<div>\n<style scoped>\n    .dataframe tbody tr th:only-of-type {\n        vertical-align: middle;\n    }\n\n    .dataframe tbody tr th {\n        vertical-align: top;\n    }\n\n    .dataframe thead th {\n        text-align: right;\n    }\n</style>\n<table border=\"1\" class=\"dataframe\">\n  <thead>\n    <tr style=\"text-align: right;\">\n      <th></th>\n      <th>target</th>\n      <th>text</th>\n      <th>num_characters</th>\n      <th>num_words</th>\n    </tr>\n  </thead>\n  <tbody>\n    <tr>\n      <th>0</th>\n      <td>0</td>\n      <td>Go until jurong point, crazy.. Available only ...</td>\n      <td>111</td>\n      <td>24</td>\n    </tr>\n    <tr>\n      <th>1</th>\n      <td>0</td>\n      <td>Ok lar... Joking wif u oni...</td>\n      <td>29</td>\n      <td>8</td>\n    </tr>\n    <tr>\n      <th>2</th>\n      <td>1</td>\n      <td>Free entry in 2 a wkly comp to win FA Cup fina...</td>\n      <td>155</td>\n      <td>37</td>\n    </tr>\n    <tr>\n      <th>3</th>\n      <td>0</td>\n      <td>U dun say so early hor... U c already then say...</td>\n      <td>49</td>\n      <td>13</td>\n    </tr>\n    <tr>\n      <th>4</th>\n      <td>0</td>\n      <td>Nah I don't think he goes to usf, he lives aro...</td>\n      <td>61</td>\n      <td>15</td>\n    </tr>\n  </tbody>\n</table>\n</div>"
     },
     "execution_count": 31,
     "metadata": {},
     "output_type": "execute_result"
    }
   ],
   "source": [
    "df.head()"
   ]
  },
  {
   "cell_type": "code",
   "execution_count": 32,
   "id": "3a2adba4",
   "metadata": {
    "ExecuteTime": {
     "end_time": "2024-04-07T16:34:18.131385126Z",
     "start_time": "2024-04-07T16:34:17.650300154Z"
    }
   },
   "outputs": [],
   "source": [
    "df['num_sentences'] = df['text'].apply(lambda x:len(nltk.sent_tokenize(x)))"
   ]
  },
  {
   "cell_type": "code",
   "execution_count": 33,
   "id": "4e3c5e54",
   "metadata": {
    "ExecuteTime": {
     "end_time": "2024-04-07T16:34:19.220210054Z",
     "start_time": "2024-04-07T16:34:19.084003146Z"
    }
   },
   "outputs": [
    {
     "data": {
      "text/plain": "   target                                               text  num_characters  \\\n0       0  Go until jurong point, crazy.. Available only ...             111   \n1       0                      Ok lar... Joking wif u oni...              29   \n2       1  Free entry in 2 a wkly comp to win FA Cup fina...             155   \n3       0  U dun say so early hor... U c already then say...              49   \n4       0  Nah I don't think he goes to usf, he lives aro...              61   \n\n   num_words  num_sentences  \n0         24              2  \n1          8              2  \n2         37              2  \n3         13              1  \n4         15              1  ",
      "text/html": "<div>\n<style scoped>\n    .dataframe tbody tr th:only-of-type {\n        vertical-align: middle;\n    }\n\n    .dataframe tbody tr th {\n        vertical-align: top;\n    }\n\n    .dataframe thead th {\n        text-align: right;\n    }\n</style>\n<table border=\"1\" class=\"dataframe\">\n  <thead>\n    <tr style=\"text-align: right;\">\n      <th></th>\n      <th>target</th>\n      <th>text</th>\n      <th>num_characters</th>\n      <th>num_words</th>\n      <th>num_sentences</th>\n    </tr>\n  </thead>\n  <tbody>\n    <tr>\n      <th>0</th>\n      <td>0</td>\n      <td>Go until jurong point, crazy.. Available only ...</td>\n      <td>111</td>\n      <td>24</td>\n      <td>2</td>\n    </tr>\n    <tr>\n      <th>1</th>\n      <td>0</td>\n      <td>Ok lar... Joking wif u oni...</td>\n      <td>29</td>\n      <td>8</td>\n      <td>2</td>\n    </tr>\n    <tr>\n      <th>2</th>\n      <td>1</td>\n      <td>Free entry in 2 a wkly comp to win FA Cup fina...</td>\n      <td>155</td>\n      <td>37</td>\n      <td>2</td>\n    </tr>\n    <tr>\n      <th>3</th>\n      <td>0</td>\n      <td>U dun say so early hor... U c already then say...</td>\n      <td>49</td>\n      <td>13</td>\n      <td>1</td>\n    </tr>\n    <tr>\n      <th>4</th>\n      <td>0</td>\n      <td>Nah I don't think he goes to usf, he lives aro...</td>\n      <td>61</td>\n      <td>15</td>\n      <td>1</td>\n    </tr>\n  </tbody>\n</table>\n</div>"
     },
     "execution_count": 33,
     "metadata": {},
     "output_type": "execute_result"
    }
   ],
   "source": [
    "df.head()"
   ]
  },
  {
   "cell_type": "code",
   "execution_count": 34,
   "id": "3d8c30f6",
   "metadata": {
    "ExecuteTime": {
     "end_time": "2024-04-07T16:34:20.692743828Z",
     "start_time": "2024-04-07T16:34:20.499374278Z"
    }
   },
   "outputs": [
    {
     "data": {
      "text/plain": "       num_characters    num_words  num_sentences\ncount     5169.000000  5169.000000    5169.000000\nmean        78.977945    18.455794       1.965564\nstd         58.236293    13.324758       1.448541\nmin          2.000000     1.000000       1.000000\n25%         36.000000     9.000000       1.000000\n50%         60.000000    15.000000       1.000000\n75%        117.000000    26.000000       2.000000\nmax        910.000000   220.000000      38.000000",
      "text/html": "<div>\n<style scoped>\n    .dataframe tbody tr th:only-of-type {\n        vertical-align: middle;\n    }\n\n    .dataframe tbody tr th {\n        vertical-align: top;\n    }\n\n    .dataframe thead th {\n        text-align: right;\n    }\n</style>\n<table border=\"1\" class=\"dataframe\">\n  <thead>\n    <tr style=\"text-align: right;\">\n      <th></th>\n      <th>num_characters</th>\n      <th>num_words</th>\n      <th>num_sentences</th>\n    </tr>\n  </thead>\n  <tbody>\n    <tr>\n      <th>count</th>\n      <td>5169.000000</td>\n      <td>5169.000000</td>\n      <td>5169.000000</td>\n    </tr>\n    <tr>\n      <th>mean</th>\n      <td>78.977945</td>\n      <td>18.455794</td>\n      <td>1.965564</td>\n    </tr>\n    <tr>\n      <th>std</th>\n      <td>58.236293</td>\n      <td>13.324758</td>\n      <td>1.448541</td>\n    </tr>\n    <tr>\n      <th>min</th>\n      <td>2.000000</td>\n      <td>1.000000</td>\n      <td>1.000000</td>\n    </tr>\n    <tr>\n      <th>25%</th>\n      <td>36.000000</td>\n      <td>9.000000</td>\n      <td>1.000000</td>\n    </tr>\n    <tr>\n      <th>50%</th>\n      <td>60.000000</td>\n      <td>15.000000</td>\n      <td>1.000000</td>\n    </tr>\n    <tr>\n      <th>75%</th>\n      <td>117.000000</td>\n      <td>26.000000</td>\n      <td>2.000000</td>\n    </tr>\n    <tr>\n      <th>max</th>\n      <td>910.000000</td>\n      <td>220.000000</td>\n      <td>38.000000</td>\n    </tr>\n  </tbody>\n</table>\n</div>"
     },
     "execution_count": 34,
     "metadata": {},
     "output_type": "execute_result"
    }
   ],
   "source": [
    "df[['num_characters','num_words','num_sentences']].describe()"
   ]
  },
  {
   "cell_type": "code",
   "execution_count": 35,
   "id": "2ab64881",
   "metadata": {
    "ExecuteTime": {
     "end_time": "2024-04-07T16:34:22.271711028Z",
     "start_time": "2024-04-07T16:34:21.992362815Z"
    }
   },
   "outputs": [
    {
     "data": {
      "text/plain": "       num_characters    num_words  num_sentences\ncount     4516.000000  4516.000000    4516.000000\nmean        70.459256    17.123782       1.820195\nstd         56.358207    13.493970       1.383657\nmin          2.000000     1.000000       1.000000\n25%         34.000000     8.000000       1.000000\n50%         52.000000    13.000000       1.000000\n75%         90.000000    22.000000       2.000000\nmax        910.000000   220.000000      38.000000",
      "text/html": "<div>\n<style scoped>\n    .dataframe tbody tr th:only-of-type {\n        vertical-align: middle;\n    }\n\n    .dataframe tbody tr th {\n        vertical-align: top;\n    }\n\n    .dataframe thead th {\n        text-align: right;\n    }\n</style>\n<table border=\"1\" class=\"dataframe\">\n  <thead>\n    <tr style=\"text-align: right;\">\n      <th></th>\n      <th>num_characters</th>\n      <th>num_words</th>\n      <th>num_sentences</th>\n    </tr>\n  </thead>\n  <tbody>\n    <tr>\n      <th>count</th>\n      <td>4516.000000</td>\n      <td>4516.000000</td>\n      <td>4516.000000</td>\n    </tr>\n    <tr>\n      <th>mean</th>\n      <td>70.459256</td>\n      <td>17.123782</td>\n      <td>1.820195</td>\n    </tr>\n    <tr>\n      <th>std</th>\n      <td>56.358207</td>\n      <td>13.493970</td>\n      <td>1.383657</td>\n    </tr>\n    <tr>\n      <th>min</th>\n      <td>2.000000</td>\n      <td>1.000000</td>\n      <td>1.000000</td>\n    </tr>\n    <tr>\n      <th>25%</th>\n      <td>34.000000</td>\n      <td>8.000000</td>\n      <td>1.000000</td>\n    </tr>\n    <tr>\n      <th>50%</th>\n      <td>52.000000</td>\n      <td>13.000000</td>\n      <td>1.000000</td>\n    </tr>\n    <tr>\n      <th>75%</th>\n      <td>90.000000</td>\n      <td>22.000000</td>\n      <td>2.000000</td>\n    </tr>\n    <tr>\n      <th>max</th>\n      <td>910.000000</td>\n      <td>220.000000</td>\n      <td>38.000000</td>\n    </tr>\n  </tbody>\n</table>\n</div>"
     },
     "execution_count": 35,
     "metadata": {},
     "output_type": "execute_result"
    }
   ],
   "source": [
    "# ham\n",
    "df[df['target'] == 0][['num_characters','num_words','num_sentences']].describe()"
   ]
  },
  {
   "cell_type": "code",
   "execution_count": 36,
   "id": "d186cb91",
   "metadata": {
    "ExecuteTime": {
     "end_time": "2024-04-07T16:34:23.819046675Z",
     "start_time": "2024-04-07T16:34:23.466876205Z"
    }
   },
   "outputs": [
    {
     "data": {
      "text/plain": "       num_characters   num_words  num_sentences\ncount      653.000000  653.000000     653.000000\nmean       137.891271   27.667688       2.970904\nstd         30.137753    7.008418       1.488425\nmin         13.000000    2.000000       1.000000\n25%        132.000000   25.000000       2.000000\n50%        149.000000   29.000000       3.000000\n75%        157.000000   32.000000       4.000000\nmax        224.000000   46.000000       9.000000",
      "text/html": "<div>\n<style scoped>\n    .dataframe tbody tr th:only-of-type {\n        vertical-align: middle;\n    }\n\n    .dataframe tbody tr th {\n        vertical-align: top;\n    }\n\n    .dataframe thead th {\n        text-align: right;\n    }\n</style>\n<table border=\"1\" class=\"dataframe\">\n  <thead>\n    <tr style=\"text-align: right;\">\n      <th></th>\n      <th>num_characters</th>\n      <th>num_words</th>\n      <th>num_sentences</th>\n    </tr>\n  </thead>\n  <tbody>\n    <tr>\n      <th>count</th>\n      <td>653.000000</td>\n      <td>653.000000</td>\n      <td>653.000000</td>\n    </tr>\n    <tr>\n      <th>mean</th>\n      <td>137.891271</td>\n      <td>27.667688</td>\n      <td>2.970904</td>\n    </tr>\n    <tr>\n      <th>std</th>\n      <td>30.137753</td>\n      <td>7.008418</td>\n      <td>1.488425</td>\n    </tr>\n    <tr>\n      <th>min</th>\n      <td>13.000000</td>\n      <td>2.000000</td>\n      <td>1.000000</td>\n    </tr>\n    <tr>\n      <th>25%</th>\n      <td>132.000000</td>\n      <td>25.000000</td>\n      <td>2.000000</td>\n    </tr>\n    <tr>\n      <th>50%</th>\n      <td>149.000000</td>\n      <td>29.000000</td>\n      <td>3.000000</td>\n    </tr>\n    <tr>\n      <th>75%</th>\n      <td>157.000000</td>\n      <td>32.000000</td>\n      <td>4.000000</td>\n    </tr>\n    <tr>\n      <th>max</th>\n      <td>224.000000</td>\n      <td>46.000000</td>\n      <td>9.000000</td>\n    </tr>\n  </tbody>\n</table>\n</div>"
     },
     "execution_count": 36,
     "metadata": {},
     "output_type": "execute_result"
    }
   ],
   "source": [
    "#spam\n",
    "df[df['target'] == 1][['num_characters','num_words','num_sentences']].describe()"
   ]
  },
  {
   "cell_type": "code",
   "execution_count": 37,
   "id": "e848663f",
   "metadata": {
    "ExecuteTime": {
     "end_time": "2024-04-07T16:34:25.331931600Z",
     "start_time": "2024-04-07T16:34:25.155482623Z"
    }
   },
   "outputs": [],
   "source": [
    "# import seaborn as sns"
   ]
  },
  {
   "cell_type": "code",
   "execution_count": 38,
   "id": "97352818",
   "metadata": {
    "ExecuteTime": {
     "end_time": "2024-04-07T16:34:26.092305683Z",
     "start_time": "2024-04-07T16:34:25.883405792Z"
    }
   },
   "outputs": [],
   "source": [
    "# plt.figure(figsize=(12,6))\n",
    "# sns.histplot(df[df['target'] == 0]['num_characters'])\n",
    "# sns.histplot(df[df['target'] == 1]['num_characters'],color='red')"
   ]
  },
  {
   "cell_type": "code",
   "execution_count": 39,
   "id": "5a1532ec",
   "metadata": {
    "ExecuteTime": {
     "end_time": "2024-04-07T16:34:27.220904422Z",
     "start_time": "2024-04-07T16:34:26.941402699Z"
    }
   },
   "outputs": [],
   "source": [
    "# plt.figure(figsize=(12,6))\n",
    "# sns.histplot(df[df['target'] == 0]['num_words'])\n",
    "# sns.histplot(df[df['target'] == 1]['num_words'],color='red')"
   ]
  },
  {
   "cell_type": "code",
   "execution_count": 40,
   "id": "8c44f867",
   "metadata": {
    "ExecuteTime": {
     "end_time": "2024-04-07T16:34:28.289224960Z",
     "start_time": "2024-04-07T16:34:28.195953478Z"
    }
   },
   "outputs": [],
   "source": [
    "# sns.pairplot(df,hue='target')"
   ]
  },
  {
   "cell_type": "code",
   "execution_count": 41,
   "id": "e8f5a80b",
   "metadata": {
    "ExecuteTime": {
     "end_time": "2024-04-07T16:34:28.920100892Z",
     "start_time": "2024-04-07T16:34:28.783736193Z"
    }
   },
   "outputs": [],
   "source": [
    "# sns.heatmap(df.corr(),annot=True)"
   ]
  },
  {
   "cell_type": "markdown",
   "id": "3ab74288",
   "metadata": {},
   "source": [
    "## 3. Data Preprocessing\n",
    "- Lower case\n",
    "- Tokenization\n",
    "- Removing special characters\n",
    "- Removing stop words and punctuation\n",
    "- Stemming"
   ]
  },
  {
   "cell_type": "code",
   "execution_count": 42,
   "id": "b91ca026",
   "metadata": {
    "ExecuteTime": {
     "end_time": "2024-04-07T16:34:30.832786969Z",
     "start_time": "2024-04-07T16:34:30.709298268Z"
    }
   },
   "outputs": [],
   "source": [
    "import string\n",
    "from nltk.corpus import stopwords\n",
    "\n",
    "def transform_text(text):\n",
    "    text = text.lower()\n",
    "    text = nltk.word_tokenize(text)\n",
    "    \n",
    "    y = []\n",
    "    for i in text:\n",
    "        if i.isalnum():\n",
    "            y.append(i)\n",
    "    \n",
    "    text = y[:]\n",
    "    y.clear()\n",
    "    \n",
    "    for i in text:\n",
    "        if i not in stopwords.words('english') and i not in string.punctuation:\n",
    "            y.append(i)\n",
    "            \n",
    "    text = y[:]\n",
    "    y.clear()\n",
    "    \n",
    "    for i in text:\n",
    "        y.append(ps.stem(i))\n",
    "    \n",
    "            \n",
    "    return \" \".join(y)"
   ]
  },
  {
   "cell_type": "code",
   "execution_count": 43,
   "id": "e2bfd624",
   "metadata": {
    "ExecuteTime": {
     "end_time": "2024-04-07T16:34:31.995615030Z",
     "start_time": "2024-04-07T16:34:31.860789207Z"
    }
   },
   "outputs": [],
   "source": [
    "# transform_text(\"I'm gonna be home soon and i don't want to talk about this stuff anymore tonight, k? I've cried enough today.\")"
   ]
  },
  {
   "cell_type": "code",
   "execution_count": 44,
   "id": "a8e50b45",
   "metadata": {
    "ExecuteTime": {
     "end_time": "2024-04-07T16:34:33.025858192Z",
     "start_time": "2024-04-07T16:34:32.894691490Z"
    }
   },
   "outputs": [
    {
     "data": {
      "text/plain": "\"I'm gonna be home soon and i don't want to talk about this stuff anymore tonight, k? I've cried enough today.\""
     },
     "execution_count": 44,
     "metadata": {},
     "output_type": "execute_result"
    }
   ],
   "source": [
    "df['text'][10]"
   ]
  },
  {
   "cell_type": "code",
   "execution_count": 45,
   "id": "5f22b78b",
   "metadata": {
    "ExecuteTime": {
     "end_time": "2024-04-07T16:34:34.298913700Z",
     "start_time": "2024-04-07T16:34:34.158307025Z"
    }
   },
   "outputs": [
    {
     "data": {
      "text/plain": "'love'"
     },
     "execution_count": 45,
     "metadata": {},
     "output_type": "execute_result"
    }
   ],
   "source": [
    "from nltk.stem.porter import PorterStemmer\n",
    "ps = PorterStemmer()\n",
    "ps.stem('loving')"
   ]
  },
  {
   "cell_type": "code",
   "execution_count": 46,
   "id": "467d03cd",
   "metadata": {
    "ExecuteTime": {
     "end_time": "2024-04-07T16:34:49.904856259Z",
     "start_time": "2024-04-07T16:34:35.023226005Z"
    }
   },
   "outputs": [],
   "source": [
    "df['transformed_text'] = df['text'].apply(transform_text)"
   ]
  },
  {
   "cell_type": "code",
   "execution_count": 47,
   "id": "c88541f5",
   "metadata": {
    "ExecuteTime": {
     "end_time": "2024-04-07T16:34:49.990896840Z",
     "start_time": "2024-04-07T16:34:49.938755902Z"
    }
   },
   "outputs": [
    {
     "data": {
      "text/plain": "   target                                               text  num_characters  \\\n0       0  Go until jurong point, crazy.. Available only ...             111   \n1       0                      Ok lar... Joking wif u oni...              29   \n2       1  Free entry in 2 a wkly comp to win FA Cup fina...             155   \n3       0  U dun say so early hor... U c already then say...              49   \n4       0  Nah I don't think he goes to usf, he lives aro...              61   \n\n   num_words  num_sentences                                   transformed_text  \n0         24              2  go jurong point crazi avail bugi n great world...  \n1          8              2                              ok lar joke wif u oni  \n2         37              2  free entri 2 wkli comp win fa cup final tkt 21...  \n3         13              1                u dun say earli hor u c alreadi say  \n4         15              1               nah think goe usf live around though  ",
      "text/html": "<div>\n<style scoped>\n    .dataframe tbody tr th:only-of-type {\n        vertical-align: middle;\n    }\n\n    .dataframe tbody tr th {\n        vertical-align: top;\n    }\n\n    .dataframe thead th {\n        text-align: right;\n    }\n</style>\n<table border=\"1\" class=\"dataframe\">\n  <thead>\n    <tr style=\"text-align: right;\">\n      <th></th>\n      <th>target</th>\n      <th>text</th>\n      <th>num_characters</th>\n      <th>num_words</th>\n      <th>num_sentences</th>\n      <th>transformed_text</th>\n    </tr>\n  </thead>\n  <tbody>\n    <tr>\n      <th>0</th>\n      <td>0</td>\n      <td>Go until jurong point, crazy.. Available only ...</td>\n      <td>111</td>\n      <td>24</td>\n      <td>2</td>\n      <td>go jurong point crazi avail bugi n great world...</td>\n    </tr>\n    <tr>\n      <th>1</th>\n      <td>0</td>\n      <td>Ok lar... Joking wif u oni...</td>\n      <td>29</td>\n      <td>8</td>\n      <td>2</td>\n      <td>ok lar joke wif u oni</td>\n    </tr>\n    <tr>\n      <th>2</th>\n      <td>1</td>\n      <td>Free entry in 2 a wkly comp to win FA Cup fina...</td>\n      <td>155</td>\n      <td>37</td>\n      <td>2</td>\n      <td>free entri 2 wkli comp win fa cup final tkt 21...</td>\n    </tr>\n    <tr>\n      <th>3</th>\n      <td>0</td>\n      <td>U dun say so early hor... U c already then say...</td>\n      <td>49</td>\n      <td>13</td>\n      <td>1</td>\n      <td>u dun say earli hor u c alreadi say</td>\n    </tr>\n    <tr>\n      <th>4</th>\n      <td>0</td>\n      <td>Nah I don't think he goes to usf, he lives aro...</td>\n      <td>61</td>\n      <td>15</td>\n      <td>1</td>\n      <td>nah think goe usf live around though</td>\n    </tr>\n  </tbody>\n</table>\n</div>"
     },
     "execution_count": 47,
     "metadata": {},
     "output_type": "execute_result"
    }
   ],
   "source": [
    "df.head()"
   ]
  },
  {
   "cell_type": "code",
   "execution_count": 48,
   "id": "0a470afc",
   "metadata": {
    "ExecuteTime": {
     "end_time": "2024-04-07T16:34:54.287651263Z",
     "start_time": "2024-04-07T16:34:54.161508986Z"
    }
   },
   "outputs": [],
   "source": [
    "# from wordcloud import WordCloud\n",
    "# wc = WordCloud(width=500,height=500,min_font_size=10,background_color='white')"
   ]
  },
  {
   "cell_type": "code",
   "execution_count": 49,
   "id": "e53afa54",
   "metadata": {
    "ExecuteTime": {
     "end_time": "2024-04-07T16:34:54.634301272Z",
     "start_time": "2024-04-07T16:34:54.504058828Z"
    }
   },
   "outputs": [],
   "source": [
    "# spam_wc = wc.generate(df[df['target'] == 1]['transformed_text'].str.cat(sep=\" \"))"
   ]
  },
  {
   "cell_type": "code",
   "execution_count": 50,
   "id": "f6d31b53",
   "metadata": {
    "ExecuteTime": {
     "end_time": "2024-04-07T16:34:55.224709209Z",
     "start_time": "2024-04-07T16:34:54.986139946Z"
    }
   },
   "outputs": [],
   "source": [
    "# plt.figure(figsize=(15,6))\n",
    "# plt.imshow(spam_wc)"
   ]
  },
  {
   "cell_type": "code",
   "execution_count": 51,
   "id": "23aa35d6",
   "metadata": {
    "ExecuteTime": {
     "end_time": "2024-04-07T16:34:55.535198391Z",
     "start_time": "2024-04-07T16:34:55.476293924Z"
    }
   },
   "outputs": [],
   "source": [
    "# ham_wc = wc.generate(df[df['target'] == 0]['transformed_text'].str.cat(sep=\" \"))"
   ]
  },
  {
   "cell_type": "code",
   "execution_count": 52,
   "id": "de135c88",
   "metadata": {
    "ExecuteTime": {
     "end_time": "2024-04-07T16:34:56.317711556Z",
     "start_time": "2024-04-07T16:34:56.162401159Z"
    }
   },
   "outputs": [],
   "source": [
    "# plt.figure(figsize=(15,6))\n",
    "# plt.imshow(ham_wc)"
   ]
  },
  {
   "cell_type": "code",
   "execution_count": 53,
   "id": "097c12f8",
   "metadata": {
    "ExecuteTime": {
     "end_time": "2024-04-07T16:34:56.827224075Z",
     "start_time": "2024-04-07T16:34:56.676152839Z"
    }
   },
   "outputs": [
    {
     "data": {
      "text/plain": "   target                                               text  num_characters  \\\n0       0  Go until jurong point, crazy.. Available only ...             111   \n1       0                      Ok lar... Joking wif u oni...              29   \n2       1  Free entry in 2 a wkly comp to win FA Cup fina...             155   \n3       0  U dun say so early hor... U c already then say...              49   \n4       0  Nah I don't think he goes to usf, he lives aro...              61   \n\n   num_words  num_sentences                                   transformed_text  \n0         24              2  go jurong point crazi avail bugi n great world...  \n1          8              2                              ok lar joke wif u oni  \n2         37              2  free entri 2 wkli comp win fa cup final tkt 21...  \n3         13              1                u dun say earli hor u c alreadi say  \n4         15              1               nah think goe usf live around though  ",
      "text/html": "<div>\n<style scoped>\n    .dataframe tbody tr th:only-of-type {\n        vertical-align: middle;\n    }\n\n    .dataframe tbody tr th {\n        vertical-align: top;\n    }\n\n    .dataframe thead th {\n        text-align: right;\n    }\n</style>\n<table border=\"1\" class=\"dataframe\">\n  <thead>\n    <tr style=\"text-align: right;\">\n      <th></th>\n      <th>target</th>\n      <th>text</th>\n      <th>num_characters</th>\n      <th>num_words</th>\n      <th>num_sentences</th>\n      <th>transformed_text</th>\n    </tr>\n  </thead>\n  <tbody>\n    <tr>\n      <th>0</th>\n      <td>0</td>\n      <td>Go until jurong point, crazy.. Available only ...</td>\n      <td>111</td>\n      <td>24</td>\n      <td>2</td>\n      <td>go jurong point crazi avail bugi n great world...</td>\n    </tr>\n    <tr>\n      <th>1</th>\n      <td>0</td>\n      <td>Ok lar... Joking wif u oni...</td>\n      <td>29</td>\n      <td>8</td>\n      <td>2</td>\n      <td>ok lar joke wif u oni</td>\n    </tr>\n    <tr>\n      <th>2</th>\n      <td>1</td>\n      <td>Free entry in 2 a wkly comp to win FA Cup fina...</td>\n      <td>155</td>\n      <td>37</td>\n      <td>2</td>\n      <td>free entri 2 wkli comp win fa cup final tkt 21...</td>\n    </tr>\n    <tr>\n      <th>3</th>\n      <td>0</td>\n      <td>U dun say so early hor... U c already then say...</td>\n      <td>49</td>\n      <td>13</td>\n      <td>1</td>\n      <td>u dun say earli hor u c alreadi say</td>\n    </tr>\n    <tr>\n      <th>4</th>\n      <td>0</td>\n      <td>Nah I don't think he goes to usf, he lives aro...</td>\n      <td>61</td>\n      <td>15</td>\n      <td>1</td>\n      <td>nah think goe usf live around though</td>\n    </tr>\n  </tbody>\n</table>\n</div>"
     },
     "execution_count": 53,
     "metadata": {},
     "output_type": "execute_result"
    }
   ],
   "source": [
    "df.head()"
   ]
  },
  {
   "cell_type": "code",
   "execution_count": 54,
   "id": "e7b704c1",
   "metadata": {
    "ExecuteTime": {
     "end_time": "2024-04-07T16:34:58.345911665Z",
     "start_time": "2024-04-07T16:34:58.077107102Z"
    }
   },
   "outputs": [],
   "source": [
    "spam_corpus = []\n",
    "for msg in df[df['target'] == 1]['transformed_text'].tolist():\n",
    "    for word in msg.split():\n",
    "        spam_corpus.append(word)\n",
    "        "
   ]
  },
  {
   "cell_type": "code",
   "execution_count": 55,
   "id": "012f6b89",
   "metadata": {
    "ExecuteTime": {
     "end_time": "2024-04-07T16:35:01.799913725Z",
     "start_time": "2024-04-07T16:35:01.595109602Z"
    }
   },
   "outputs": [
    {
     "data": {
      "text/plain": "9939"
     },
     "execution_count": 55,
     "metadata": {},
     "output_type": "execute_result"
    }
   ],
   "source": [
    "len(spam_corpus)"
   ]
  },
  {
   "cell_type": "code",
   "execution_count": 56,
   "id": "67a8d65d",
   "metadata": {
    "ExecuteTime": {
     "end_time": "2024-04-07T16:35:03.296228622Z",
     "start_time": "2024-04-07T16:35:03.048499567Z"
    }
   },
   "outputs": [],
   "source": [
    "# from collections import Counter\n",
    "# sns.barplot(pd.DataFrame(Counter(spam_corpus).most_common(30))[0],pd.DataFrame(Counter(spam_corpus).most_common(30))[1])\n",
    "# plt.xticks(rotation='vertical')\n",
    "# plt.show()"
   ]
  },
  {
   "cell_type": "code",
   "execution_count": 57,
   "id": "5aa7ab51",
   "metadata": {
    "ExecuteTime": {
     "end_time": "2024-04-07T16:35:03.474527052Z",
     "start_time": "2024-04-07T16:35:03.283537692Z"
    }
   },
   "outputs": [],
   "source": [
    "ham_corpus = []\n",
    "for msg in df[df['target'] == 0]['transformed_text'].tolist():\n",
    "    for word in msg.split():\n",
    "        ham_corpus.append(word)"
   ]
  },
  {
   "cell_type": "code",
   "execution_count": 58,
   "id": "bb3a8c3e",
   "metadata": {
    "ExecuteTime": {
     "end_time": "2024-04-07T16:35:03.546123913Z",
     "start_time": "2024-04-07T16:35:03.450013321Z"
    }
   },
   "outputs": [
    {
     "data": {
      "text/plain": "35404"
     },
     "execution_count": 58,
     "metadata": {},
     "output_type": "execute_result"
    }
   ],
   "source": [
    "len(ham_corpus)"
   ]
  },
  {
   "cell_type": "code",
   "execution_count": 59,
   "id": "e4c0824a",
   "metadata": {
    "ExecuteTime": {
     "end_time": "2024-04-07T16:35:04.989655651Z",
     "start_time": "2024-04-07T16:35:04.859511964Z"
    }
   },
   "outputs": [],
   "source": [
    "# from collections import Counter\n",
    "# sns.barplot(pd.DataFrame(Counter(ham_corpus).most_common(30))[0],pd.DataFrame(Counter(ham_corpus).most_common(30))[1])\n",
    "# plt.xticks(rotation='vertical')\n",
    "# plt.show()"
   ]
  },
  {
   "cell_type": "code",
   "execution_count": 60,
   "id": "a27316ab",
   "metadata": {
    "ExecuteTime": {
     "end_time": "2024-04-07T16:35:05.540079660Z",
     "start_time": "2024-04-07T16:35:05.392252750Z"
    }
   },
   "outputs": [
    {
     "data": {
      "text/plain": "   target                                               text  num_characters  \\\n0       0  Go until jurong point, crazy.. Available only ...             111   \n1       0                      Ok lar... Joking wif u oni...              29   \n2       1  Free entry in 2 a wkly comp to win FA Cup fina...             155   \n3       0  U dun say so early hor... U c already then say...              49   \n4       0  Nah I don't think he goes to usf, he lives aro...              61   \n\n   num_words  num_sentences                                   transformed_text  \n0         24              2  go jurong point crazi avail bugi n great world...  \n1          8              2                              ok lar joke wif u oni  \n2         37              2  free entri 2 wkli comp win fa cup final tkt 21...  \n3         13              1                u dun say earli hor u c alreadi say  \n4         15              1               nah think goe usf live around though  ",
      "text/html": "<div>\n<style scoped>\n    .dataframe tbody tr th:only-of-type {\n        vertical-align: middle;\n    }\n\n    .dataframe tbody tr th {\n        vertical-align: top;\n    }\n\n    .dataframe thead th {\n        text-align: right;\n    }\n</style>\n<table border=\"1\" class=\"dataframe\">\n  <thead>\n    <tr style=\"text-align: right;\">\n      <th></th>\n      <th>target</th>\n      <th>text</th>\n      <th>num_characters</th>\n      <th>num_words</th>\n      <th>num_sentences</th>\n      <th>transformed_text</th>\n    </tr>\n  </thead>\n  <tbody>\n    <tr>\n      <th>0</th>\n      <td>0</td>\n      <td>Go until jurong point, crazy.. Available only ...</td>\n      <td>111</td>\n      <td>24</td>\n      <td>2</td>\n      <td>go jurong point crazi avail bugi n great world...</td>\n    </tr>\n    <tr>\n      <th>1</th>\n      <td>0</td>\n      <td>Ok lar... Joking wif u oni...</td>\n      <td>29</td>\n      <td>8</td>\n      <td>2</td>\n      <td>ok lar joke wif u oni</td>\n    </tr>\n    <tr>\n      <th>2</th>\n      <td>1</td>\n      <td>Free entry in 2 a wkly comp to win FA Cup fina...</td>\n      <td>155</td>\n      <td>37</td>\n      <td>2</td>\n      <td>free entri 2 wkli comp win fa cup final tkt 21...</td>\n    </tr>\n    <tr>\n      <th>3</th>\n      <td>0</td>\n      <td>U dun say so early hor... U c already then say...</td>\n      <td>49</td>\n      <td>13</td>\n      <td>1</td>\n      <td>u dun say earli hor u c alreadi say</td>\n    </tr>\n    <tr>\n      <th>4</th>\n      <td>0</td>\n      <td>Nah I don't think he goes to usf, he lives aro...</td>\n      <td>61</td>\n      <td>15</td>\n      <td>1</td>\n      <td>nah think goe usf live around though</td>\n    </tr>\n  </tbody>\n</table>\n</div>"
     },
     "execution_count": 60,
     "metadata": {},
     "output_type": "execute_result"
    }
   ],
   "source": [
    "# Text Vectorization\n",
    "# using Bag of Words\n",
    "df.head()"
   ]
  },
  {
   "cell_type": "markdown",
   "id": "a1fea545",
   "metadata": {},
   "source": [
    "## 4. Model Building"
   ]
  },
  {
   "cell_type": "code",
   "execution_count": 61,
   "id": "b56b6a0d",
   "metadata": {
    "ExecuteTime": {
     "end_time": "2024-04-07T16:35:07.752226306Z",
     "start_time": "2024-04-07T16:35:07.594380447Z"
    }
   },
   "outputs": [],
   "source": [
    "from sklearn.feature_extraction.text import CountVectorizer,TfidfVectorizer\n",
    "cv = CountVectorizer()\n",
    "tfidf = TfidfVectorizer(max_features=3000)"
   ]
  },
  {
   "cell_type": "code",
   "execution_count": 62,
   "id": "50c5946a",
   "metadata": {
    "ExecuteTime": {
     "end_time": "2024-04-07T16:35:08.989217177Z",
     "start_time": "2024-04-07T16:35:08.637808965Z"
    }
   },
   "outputs": [],
   "source": [
    "X = tfidf.fit_transform(df['transformed_text']).toarray()"
   ]
  },
  {
   "cell_type": "code",
   "execution_count": 63,
   "id": "c4809ab6",
   "metadata": {
    "ExecuteTime": {
     "end_time": "2024-04-07T16:35:10.159618055Z",
     "start_time": "2024-04-07T16:35:10.026487761Z"
    }
   },
   "outputs": [],
   "source": [
    "#from sklearn.preprocessing import MinMaxScaler\n",
    "#scaler = MinMaxScaler()\n",
    "#X = scaler.fit_transform(X)"
   ]
  },
  {
   "cell_type": "code",
   "execution_count": 64,
   "id": "016c2bdb",
   "metadata": {
    "ExecuteTime": {
     "end_time": "2024-04-07T16:35:10.686530241Z",
     "start_time": "2024-04-07T16:35:10.471274010Z"
    }
   },
   "outputs": [],
   "source": [
    "# appending the num_character col to X\n",
    "#X = np.hstack((X,df['num_characters'].values.reshape(-1,1)))"
   ]
  },
  {
   "cell_type": "code",
   "execution_count": 65,
   "id": "d19d30fd",
   "metadata": {
    "ExecuteTime": {
     "end_time": "2024-04-07T16:35:10.775580387Z",
     "start_time": "2024-04-07T16:35:10.642378360Z"
    }
   },
   "outputs": [
    {
     "data": {
      "text/plain": "(5169, 3000)"
     },
     "execution_count": 65,
     "metadata": {},
     "output_type": "execute_result"
    }
   ],
   "source": [
    "X.shape"
   ]
  },
  {
   "cell_type": "code",
   "execution_count": 66,
   "id": "c2d74f16",
   "metadata": {
    "ExecuteTime": {
     "end_time": "2024-04-07T16:35:23.420187211Z",
     "start_time": "2024-04-07T16:35:23.262019529Z"
    }
   },
   "outputs": [],
   "source": [
    "y = df['target'].values"
   ]
  },
  {
   "cell_type": "code",
   "execution_count": 67,
   "id": "07d00277",
   "metadata": {
    "ExecuteTime": {
     "end_time": "2024-04-07T16:35:27.163040873Z",
     "start_time": "2024-04-07T16:35:25.296186927Z"
    }
   },
   "outputs": [],
   "source": [
    "from sklearn.model_selection import train_test_split"
   ]
  },
  {
   "cell_type": "code",
   "execution_count": 68,
   "id": "d2b2861d",
   "metadata": {
    "ExecuteTime": {
     "end_time": "2024-04-07T16:35:32.222875150Z",
     "start_time": "2024-04-07T16:35:27.938030087Z"
    }
   },
   "outputs": [],
   "source": [
    "X_train,X_test,y_train,y_test = train_test_split(X,y,test_size=0.2,random_state=2)"
   ]
  },
  {
   "cell_type": "code",
   "execution_count": 69,
   "id": "c680564b",
   "metadata": {
    "ExecuteTime": {
     "end_time": "2024-04-07T16:35:32.393842318Z",
     "start_time": "2024-04-07T16:35:31.442037595Z"
    }
   },
   "outputs": [],
   "source": [
    "from sklearn.naive_bayes import GaussianNB,MultinomialNB,BernoulliNB\n",
    "from sklearn.metrics import accuracy_score,confusion_matrix,precision_score"
   ]
  },
  {
   "cell_type": "code",
   "execution_count": 70,
   "id": "c9920d0e",
   "metadata": {
    "ExecuteTime": {
     "end_time": "2024-04-07T16:35:32.572950055Z",
     "start_time": "2024-04-07T16:35:32.374740769Z"
    }
   },
   "outputs": [],
   "source": [
    "gnb = GaussianNB()\n",
    "mnb = MultinomialNB()\n",
    "bnb = BernoulliNB()"
   ]
  },
  {
   "cell_type": "code",
   "execution_count": 71,
   "id": "3ca60ba9",
   "metadata": {
    "ExecuteTime": {
     "end_time": "2024-04-07T16:35:33.069240388Z",
     "start_time": "2024-04-07T16:35:32.574455462Z"
    }
   },
   "outputs": [
    {
     "name": "stdout",
     "output_type": "stream",
     "text": [
      "0.8694390715667312\n",
      "[[788 108]\n",
      " [ 27 111]]\n",
      "0.5068493150684932\n"
     ]
    }
   ],
   "source": [
    "gnb.fit(X_train,y_train)\n",
    "y_pred1 = gnb.predict(X_test)\n",
    "print(accuracy_score(y_test,y_pred1))\n",
    "print(confusion_matrix(y_test,y_pred1))\n",
    "print(precision_score(y_test,y_pred1))"
   ]
  },
  {
   "cell_type": "code",
   "execution_count": 72,
   "id": "d4652432",
   "metadata": {
    "ExecuteTime": {
     "end_time": "2024-04-07T16:35:33.272928633Z",
     "start_time": "2024-04-07T16:35:32.890394027Z"
    }
   },
   "outputs": [
    {
     "name": "stdout",
     "output_type": "stream",
     "text": [
      "0.9709864603481625\n",
      "[[896   0]\n",
      " [ 30 108]]\n",
      "1.0\n"
     ]
    }
   ],
   "source": [
    "mnb.fit(X_train,y_train)\n",
    "y_pred2 = mnb.predict(X_test)\n",
    "print(accuracy_score(y_test,y_pred2))\n",
    "print(confusion_matrix(y_test,y_pred2))\n",
    "print(precision_score(y_test,y_pred2))"
   ]
  },
  {
   "cell_type": "code",
   "execution_count": 73,
   "id": "d776bff4",
   "metadata": {
    "ExecuteTime": {
     "end_time": "2024-04-07T16:35:33.458195219Z",
     "start_time": "2024-04-07T16:35:32.988242616Z"
    }
   },
   "outputs": [
    {
     "name": "stdout",
     "output_type": "stream",
     "text": [
      "0.9835589941972921\n",
      "[[895   1]\n",
      " [ 16 122]]\n",
      "0.991869918699187\n"
     ]
    }
   ],
   "source": [
    "bnb.fit(X_train,y_train)\n",
    "y_pred3 = bnb.predict(X_test)\n",
    "print(accuracy_score(y_test,y_pred3))\n",
    "print(confusion_matrix(y_test,y_pred3))\n",
    "print(precision_score(y_test,y_pred3))"
   ]
  },
  {
   "cell_type": "code",
   "execution_count": 74,
   "id": "f5f42bdf",
   "metadata": {
    "ExecuteTime": {
     "end_time": "2024-04-07T16:36:31.891487751Z",
     "start_time": "2024-04-07T16:36:31.750309971Z"
    }
   },
   "outputs": [],
   "source": [
    "# tfidf --> MNB"
   ]
  },
  {
   "cell_type": "code",
   "execution_count": 75,
   "id": "635d3da1",
   "metadata": {
    "ExecuteTime": {
     "end_time": "2024-04-07T16:36:33.767670590Z",
     "start_time": "2024-04-07T16:36:33.171426100Z"
    }
   },
   "outputs": [],
   "source": [
    "from sklearn.linear_model import LogisticRegression\n",
    "from sklearn.svm import SVC\n",
    "from sklearn.naive_bayes import MultinomialNB\n",
    "from sklearn.tree import DecisionTreeClassifier\n",
    "from sklearn.neighbors import KNeighborsClassifier\n",
    "from sklearn.ensemble import RandomForestClassifier\n",
    "from sklearn.ensemble import AdaBoostClassifier\n",
    "from sklearn.ensemble import BaggingClassifier\n",
    "from sklearn.ensemble import ExtraTreesClassifier\n",
    "from sklearn.ensemble import GradientBoostingClassifier\n",
    "from xgboost import XGBClassifier"
   ]
  },
  {
   "cell_type": "code",
   "execution_count": 76,
   "id": "69aecbbb",
   "metadata": {
    "ExecuteTime": {
     "end_time": "2024-04-07T16:36:34.293712174Z",
     "start_time": "2024-04-07T16:36:34.178171340Z"
    }
   },
   "outputs": [],
   "source": [
    "svc = SVC(kernel='sigmoid', gamma=1.0)\n",
    "knc = KNeighborsClassifier()\n",
    "mnb = MultinomialNB()\n",
    "dtc = DecisionTreeClassifier(max_depth=5)\n",
    "lrc = LogisticRegression(solver='liblinear', penalty='l1')\n",
    "rfc = RandomForestClassifier(n_estimators=50, random_state=2)\n",
    "abc = AdaBoostClassifier(n_estimators=50, random_state=2)\n",
    "bc = BaggingClassifier(n_estimators=50, random_state=2)\n",
    "etc = ExtraTreesClassifier(n_estimators=50, random_state=2)\n",
    "gbdt = GradientBoostingClassifier(n_estimators=50,random_state=2)\n",
    "xgb = XGBClassifier(n_estimators=50,random_state=2)"
   ]
  },
  {
   "cell_type": "code",
   "execution_count": 77,
   "id": "e5b3a99f",
   "metadata": {
    "ExecuteTime": {
     "end_time": "2024-04-07T16:36:35.069042953Z",
     "start_time": "2024-04-07T16:36:34.968757785Z"
    }
   },
   "outputs": [],
   "source": [
    "clfs = {\n",
    "    'SVC' : svc,\n",
    "    'KN' : knc, \n",
    "    'NB': mnb, \n",
    "    'DT': dtc, \n",
    "    'LR': lrc, \n",
    "    'RF': rfc, \n",
    "    'AdaBoost': abc, \n",
    "    'BgC': bc, \n",
    "    'ETC': etc,\n",
    "    'GBDT':gbdt,\n",
    "    'xgb':xgb\n",
    "}"
   ]
  },
  {
   "cell_type": "code",
   "execution_count": 78,
   "id": "f6e6bb0d",
   "metadata": {
    "ExecuteTime": {
     "end_time": "2024-04-07T16:36:36.482831876Z",
     "start_time": "2024-04-07T16:36:36.345054787Z"
    }
   },
   "outputs": [],
   "source": [
    "def train_classifier(clf,X_train,y_train,X_test,y_test):\n",
    "    clf.fit(X_train,y_train)\n",
    "    y_pred = clf.predict(X_test)\n",
    "    accuracy = accuracy_score(y_test,y_pred)\n",
    "    precision = precision_score(y_test,y_pred)\n",
    "    \n",
    "    return accuracy,precision"
   ]
  },
  {
   "cell_type": "code",
   "execution_count": 79,
   "id": "f294fb4b",
   "metadata": {
    "ExecuteTime": {
     "end_time": "2024-04-07T16:36:44.308224006Z",
     "start_time": "2024-04-07T16:36:37.408953513Z"
    }
   },
   "outputs": [
    {
     "data": {
      "text/plain": "(0.9758220502901354, 0.9747899159663865)"
     },
     "execution_count": 79,
     "metadata": {},
     "output_type": "execute_result"
    }
   ],
   "source": [
    "train_classifier(svc,X_train,y_train,X_test,y_test)"
   ]
  },
  {
   "cell_type": "code",
   "execution_count": 80,
   "id": "01a350d2",
   "metadata": {
    "ExecuteTime": {
     "end_time": "2024-04-07T16:39:56.449980367Z",
     "start_time": "2024-04-07T16:36:49.370227156Z"
    }
   },
   "outputs": [
    {
     "name": "stdout",
     "output_type": "stream",
     "text": [
      "For  SVC\n",
      "Accuracy -  0.9758220502901354\n",
      "Precision -  0.9747899159663865\n",
      "For  KN\n",
      "Accuracy -  0.9052224371373307\n",
      "Precision -  1.0\n",
      "For  NB\n",
      "Accuracy -  0.9709864603481625\n",
      "Precision -  1.0\n",
      "For  DT\n",
      "Accuracy -  0.9323017408123792\n",
      "Precision -  0.8333333333333334\n",
      "For  LR\n",
      "Accuracy -  0.9584139264990329\n",
      "Precision -  0.9702970297029703\n",
      "For  RF\n",
      "Accuracy -  0.9758220502901354\n",
      "Precision -  0.9829059829059829\n"
     ]
    },
    {
     "name": "stderr",
     "output_type": "stream",
     "text": [
      "/home/abhay/Desktop/Personal/ML-Learning/Projects/venv/lib/python3.10/site-packages/sklearn/ensemble/_weight_boosting.py:519: FutureWarning: The SAMME.R algorithm (the default) is deprecated and will be removed in 1.6. Use the SAMME algorithm to circumvent this warning.\n",
      "  warnings.warn(\n"
     ]
    },
    {
     "name": "stdout",
     "output_type": "stream",
     "text": [
      "For  AdaBoost\n",
      "Accuracy -  0.960348162475822\n",
      "Precision -  0.9292035398230089\n",
      "For  BgC\n",
      "Accuracy -  0.9584139264990329\n",
      "Precision -  0.8682170542635659\n",
      "For  ETC\n",
      "Accuracy -  0.9748549323017408\n",
      "Precision -  0.9745762711864406\n",
      "For  GBDT\n",
      "Accuracy -  0.9468085106382979\n",
      "Precision -  0.9191919191919192\n",
      "For  xgb\n",
      "Accuracy -  0.9671179883945842\n",
      "Precision -  0.9262295081967213\n"
     ]
    }
   ],
   "source": [
    "accuracy_scores = []\n",
    "precision_scores = []\n",
    "\n",
    "for name,clf in clfs.items():\n",
    "    \n",
    "    current_accuracy,current_precision = train_classifier(clf, X_train,y_train,X_test,y_test)\n",
    "    \n",
    "    print(\"For \",name)\n",
    "    print(\"Accuracy - \",current_accuracy)\n",
    "    print(\"Precision - \",current_precision)\n",
    "    \n",
    "    accuracy_scores.append(current_accuracy)\n",
    "    precision_scores.append(current_precision)"
   ]
  },
  {
   "cell_type": "code",
   "execution_count": 81,
   "id": "ffcb9b12",
   "metadata": {
    "ExecuteTime": {
     "end_time": "2024-04-07T16:40:20.142033986Z",
     "start_time": "2024-04-07T16:40:19.961117927Z"
    }
   },
   "outputs": [],
   "source": [
    "performance_df = pd.DataFrame({'Algorithm':clfs.keys(),'Accuracy':accuracy_scores,'Precision':precision_scores}).sort_values('Precision',ascending=False)"
   ]
  },
  {
   "cell_type": "code",
   "execution_count": 82,
   "id": "7c614d5d",
   "metadata": {
    "ExecuteTime": {
     "end_time": "2024-04-07T16:40:23.216223570Z",
     "start_time": "2024-04-07T16:40:23.044989961Z"
    }
   },
   "outputs": [
    {
     "data": {
      "text/plain": "   Algorithm  Accuracy  Precision\n1         KN  0.905222   1.000000\n2         NB  0.970986   1.000000\n5         RF  0.975822   0.982906\n0        SVC  0.975822   0.974790\n8        ETC  0.974855   0.974576\n4         LR  0.958414   0.970297\n6   AdaBoost  0.960348   0.929204\n10       xgb  0.967118   0.926230\n9       GBDT  0.946809   0.919192\n7        BgC  0.958414   0.868217\n3         DT  0.932302   0.833333",
      "text/html": "<div>\n<style scoped>\n    .dataframe tbody tr th:only-of-type {\n        vertical-align: middle;\n    }\n\n    .dataframe tbody tr th {\n        vertical-align: top;\n    }\n\n    .dataframe thead th {\n        text-align: right;\n    }\n</style>\n<table border=\"1\" class=\"dataframe\">\n  <thead>\n    <tr style=\"text-align: right;\">\n      <th></th>\n      <th>Algorithm</th>\n      <th>Accuracy</th>\n      <th>Precision</th>\n    </tr>\n  </thead>\n  <tbody>\n    <tr>\n      <th>1</th>\n      <td>KN</td>\n      <td>0.905222</td>\n      <td>1.000000</td>\n    </tr>\n    <tr>\n      <th>2</th>\n      <td>NB</td>\n      <td>0.970986</td>\n      <td>1.000000</td>\n    </tr>\n    <tr>\n      <th>5</th>\n      <td>RF</td>\n      <td>0.975822</td>\n      <td>0.982906</td>\n    </tr>\n    <tr>\n      <th>0</th>\n      <td>SVC</td>\n      <td>0.975822</td>\n      <td>0.974790</td>\n    </tr>\n    <tr>\n      <th>8</th>\n      <td>ETC</td>\n      <td>0.974855</td>\n      <td>0.974576</td>\n    </tr>\n    <tr>\n      <th>4</th>\n      <td>LR</td>\n      <td>0.958414</td>\n      <td>0.970297</td>\n    </tr>\n    <tr>\n      <th>6</th>\n      <td>AdaBoost</td>\n      <td>0.960348</td>\n      <td>0.929204</td>\n    </tr>\n    <tr>\n      <th>10</th>\n      <td>xgb</td>\n      <td>0.967118</td>\n      <td>0.926230</td>\n    </tr>\n    <tr>\n      <th>9</th>\n      <td>GBDT</td>\n      <td>0.946809</td>\n      <td>0.919192</td>\n    </tr>\n    <tr>\n      <th>7</th>\n      <td>BgC</td>\n      <td>0.958414</td>\n      <td>0.868217</td>\n    </tr>\n    <tr>\n      <th>3</th>\n      <td>DT</td>\n      <td>0.932302</td>\n      <td>0.833333</td>\n    </tr>\n  </tbody>\n</table>\n</div>"
     },
     "execution_count": 82,
     "metadata": {},
     "output_type": "execute_result"
    }
   ],
   "source": [
    "performance_df"
   ]
  },
  {
   "cell_type": "code",
   "execution_count": 83,
   "id": "6515228a",
   "metadata": {
    "ExecuteTime": {
     "end_time": "2024-04-07T16:40:25.730978958Z",
     "start_time": "2024-04-07T16:40:25.611732367Z"
    }
   },
   "outputs": [],
   "source": [
    "performance_df1 = pd.melt(performance_df, id_vars = \"Algorithm\")"
   ]
  },
  {
   "cell_type": "code",
   "execution_count": 84,
   "id": "e2968237",
   "metadata": {
    "ExecuteTime": {
     "end_time": "2024-04-07T16:40:27.368616167Z",
     "start_time": "2024-04-07T16:40:27.241439246Z"
    }
   },
   "outputs": [
    {
     "data": {
      "text/plain": "   Algorithm   variable     value\n0         KN   Accuracy  0.905222\n1         NB   Accuracy  0.970986\n2         RF   Accuracy  0.975822\n3        SVC   Accuracy  0.975822\n4        ETC   Accuracy  0.974855\n5         LR   Accuracy  0.958414\n6   AdaBoost   Accuracy  0.960348\n7        xgb   Accuracy  0.967118\n8       GBDT   Accuracy  0.946809\n9        BgC   Accuracy  0.958414\n10        DT   Accuracy  0.932302\n11        KN  Precision  1.000000\n12        NB  Precision  1.000000\n13        RF  Precision  0.982906\n14       SVC  Precision  0.974790\n15       ETC  Precision  0.974576\n16        LR  Precision  0.970297\n17  AdaBoost  Precision  0.929204\n18       xgb  Precision  0.926230\n19      GBDT  Precision  0.919192\n20       BgC  Precision  0.868217\n21        DT  Precision  0.833333",
      "text/html": "<div>\n<style scoped>\n    .dataframe tbody tr th:only-of-type {\n        vertical-align: middle;\n    }\n\n    .dataframe tbody tr th {\n        vertical-align: top;\n    }\n\n    .dataframe thead th {\n        text-align: right;\n    }\n</style>\n<table border=\"1\" class=\"dataframe\">\n  <thead>\n    <tr style=\"text-align: right;\">\n      <th></th>\n      <th>Algorithm</th>\n      <th>variable</th>\n      <th>value</th>\n    </tr>\n  </thead>\n  <tbody>\n    <tr>\n      <th>0</th>\n      <td>KN</td>\n      <td>Accuracy</td>\n      <td>0.905222</td>\n    </tr>\n    <tr>\n      <th>1</th>\n      <td>NB</td>\n      <td>Accuracy</td>\n      <td>0.970986</td>\n    </tr>\n    <tr>\n      <th>2</th>\n      <td>RF</td>\n      <td>Accuracy</td>\n      <td>0.975822</td>\n    </tr>\n    <tr>\n      <th>3</th>\n      <td>SVC</td>\n      <td>Accuracy</td>\n      <td>0.975822</td>\n    </tr>\n    <tr>\n      <th>4</th>\n      <td>ETC</td>\n      <td>Accuracy</td>\n      <td>0.974855</td>\n    </tr>\n    <tr>\n      <th>5</th>\n      <td>LR</td>\n      <td>Accuracy</td>\n      <td>0.958414</td>\n    </tr>\n    <tr>\n      <th>6</th>\n      <td>AdaBoost</td>\n      <td>Accuracy</td>\n      <td>0.960348</td>\n    </tr>\n    <tr>\n      <th>7</th>\n      <td>xgb</td>\n      <td>Accuracy</td>\n      <td>0.967118</td>\n    </tr>\n    <tr>\n      <th>8</th>\n      <td>GBDT</td>\n      <td>Accuracy</td>\n      <td>0.946809</td>\n    </tr>\n    <tr>\n      <th>9</th>\n      <td>BgC</td>\n      <td>Accuracy</td>\n      <td>0.958414</td>\n    </tr>\n    <tr>\n      <th>10</th>\n      <td>DT</td>\n      <td>Accuracy</td>\n      <td>0.932302</td>\n    </tr>\n    <tr>\n      <th>11</th>\n      <td>KN</td>\n      <td>Precision</td>\n      <td>1.000000</td>\n    </tr>\n    <tr>\n      <th>12</th>\n      <td>NB</td>\n      <td>Precision</td>\n      <td>1.000000</td>\n    </tr>\n    <tr>\n      <th>13</th>\n      <td>RF</td>\n      <td>Precision</td>\n      <td>0.982906</td>\n    </tr>\n    <tr>\n      <th>14</th>\n      <td>SVC</td>\n      <td>Precision</td>\n      <td>0.974790</td>\n    </tr>\n    <tr>\n      <th>15</th>\n      <td>ETC</td>\n      <td>Precision</td>\n      <td>0.974576</td>\n    </tr>\n    <tr>\n      <th>16</th>\n      <td>LR</td>\n      <td>Precision</td>\n      <td>0.970297</td>\n    </tr>\n    <tr>\n      <th>17</th>\n      <td>AdaBoost</td>\n      <td>Precision</td>\n      <td>0.929204</td>\n    </tr>\n    <tr>\n      <th>18</th>\n      <td>xgb</td>\n      <td>Precision</td>\n      <td>0.926230</td>\n    </tr>\n    <tr>\n      <th>19</th>\n      <td>GBDT</td>\n      <td>Precision</td>\n      <td>0.919192</td>\n    </tr>\n    <tr>\n      <th>20</th>\n      <td>BgC</td>\n      <td>Precision</td>\n      <td>0.868217</td>\n    </tr>\n    <tr>\n      <th>21</th>\n      <td>DT</td>\n      <td>Precision</td>\n      <td>0.833333</td>\n    </tr>\n  </tbody>\n</table>\n</div>"
     },
     "execution_count": 84,
     "metadata": {},
     "output_type": "execute_result"
    }
   ],
   "source": [
    "performance_df1"
   ]
  },
  {
   "cell_type": "code",
   "execution_count": 85,
   "id": "a6c626fb",
   "metadata": {
    "ExecuteTime": {
     "end_time": "2024-04-07T16:40:29.179033468Z",
     "start_time": "2024-04-07T16:40:29.034893375Z"
    }
   },
   "outputs": [],
   "source": [
    "# sns.catplot(x = 'Algorithm', y='value', \n",
    "#                hue = 'variable',data=performance_df1, kind='bar',height=5)\n",
    "# plt.ylim(0.5,1.0)\n",
    "# plt.xticks(rotation='vertical')\n",
    "# plt.show()"
   ]
  },
  {
   "cell_type": "code",
   "execution_count": 86,
   "id": "b36faeac",
   "metadata": {
    "ExecuteTime": {
     "end_time": "2024-04-07T16:40:30.604621636Z",
     "start_time": "2024-04-07T16:40:30.442244471Z"
    }
   },
   "outputs": [],
   "source": [
    "# model improve\n",
    "# 1. Change the max_features parameter of TfIdf"
   ]
  },
  {
   "cell_type": "code",
   "execution_count": 87,
   "id": "231b2c67",
   "metadata": {
    "ExecuteTime": {
     "end_time": "2024-04-07T16:40:31.789367998Z",
     "start_time": "2024-04-07T16:40:31.642066071Z"
    }
   },
   "outputs": [],
   "source": [
    "temp_df = pd.DataFrame({'Algorithm':clfs.keys(),'Accuracy_max_ft_3000':accuracy_scores,'Precision_max_ft_3000':precision_scores}).sort_values('Precision_max_ft_3000',ascending=False)"
   ]
  },
  {
   "cell_type": "code",
   "execution_count": 88,
   "id": "d6c44dc0",
   "metadata": {
    "ExecuteTime": {
     "end_time": "2024-04-07T16:40:33.139647368Z",
     "start_time": "2024-04-07T16:40:33.027054654Z"
    }
   },
   "outputs": [],
   "source": [
    "temp_df = pd.DataFrame({'Algorithm':clfs.keys(),'Accuracy_scaling':accuracy_scores,'Precision_scaling':precision_scores}).sort_values('Precision_scaling',ascending=False)"
   ]
  },
  {
   "cell_type": "code",
   "execution_count": 89,
   "id": "401c5f50",
   "metadata": {
    "ExecuteTime": {
     "end_time": "2024-04-07T16:40:34.317483072Z",
     "start_time": "2024-04-07T16:40:34.212432797Z"
    }
   },
   "outputs": [],
   "source": [
    "new_df = performance_df.merge(temp_df,on='Algorithm')"
   ]
  },
  {
   "cell_type": "code",
   "execution_count": 90,
   "id": "200919bd",
   "metadata": {
    "ExecuteTime": {
     "end_time": "2024-04-07T16:40:35.557004001Z",
     "start_time": "2024-04-07T16:40:35.448852991Z"
    }
   },
   "outputs": [],
   "source": [
    "new_df_scaled = new_df.merge(temp_df,on='Algorithm')"
   ]
  },
  {
   "cell_type": "code",
   "execution_count": 91,
   "id": "23bc6b1f",
   "metadata": {
    "ExecuteTime": {
     "end_time": "2024-04-07T16:40:36.436997828Z",
     "start_time": "2024-04-07T16:40:36.294514596Z"
    }
   },
   "outputs": [],
   "source": [
    "temp_df = pd.DataFrame({'Algorithm':clfs.keys(),'Accuracy_num_chars':accuracy_scores,'Precision_num_chars':precision_scores}).sort_values('Precision_num_chars',ascending=False)"
   ]
  },
  {
   "cell_type": "code",
   "execution_count": 92,
   "id": "129f1fdc",
   "metadata": {
    "ExecuteTime": {
     "end_time": "2024-04-07T16:40:38.054028406Z",
     "start_time": "2024-04-07T16:40:37.804622131Z"
    }
   },
   "outputs": [
    {
     "data": {
      "text/plain": "   Algorithm  Accuracy  Precision  Accuracy_scaling_x  Precision_scaling_x  \\\n0         KN  0.905222   1.000000            0.905222             1.000000   \n1         NB  0.970986   1.000000            0.970986             1.000000   \n2         RF  0.975822   0.982906            0.975822             0.982906   \n3        SVC  0.975822   0.974790            0.975822             0.974790   \n4        ETC  0.974855   0.974576            0.974855             0.974576   \n5         LR  0.958414   0.970297            0.958414             0.970297   \n6   AdaBoost  0.960348   0.929204            0.960348             0.929204   \n7        xgb  0.967118   0.926230            0.967118             0.926230   \n8       GBDT  0.946809   0.919192            0.946809             0.919192   \n9        BgC  0.958414   0.868217            0.958414             0.868217   \n10        DT  0.932302   0.833333            0.932302             0.833333   \n\n    Accuracy_scaling_y  Precision_scaling_y  Accuracy_num_chars  \\\n0             0.905222             1.000000            0.905222   \n1             0.970986             1.000000            0.970986   \n2             0.975822             0.982906            0.975822   \n3             0.975822             0.974790            0.975822   \n4             0.974855             0.974576            0.974855   \n5             0.958414             0.970297            0.958414   \n6             0.960348             0.929204            0.960348   \n7             0.967118             0.926230            0.967118   \n8             0.946809             0.919192            0.946809   \n9             0.958414             0.868217            0.958414   \n10            0.932302             0.833333            0.932302   \n\n    Precision_num_chars  \n0              1.000000  \n1              1.000000  \n2              0.982906  \n3              0.974790  \n4              0.974576  \n5              0.970297  \n6              0.929204  \n7              0.926230  \n8              0.919192  \n9              0.868217  \n10             0.833333  ",
      "text/html": "<div>\n<style scoped>\n    .dataframe tbody tr th:only-of-type {\n        vertical-align: middle;\n    }\n\n    .dataframe tbody tr th {\n        vertical-align: top;\n    }\n\n    .dataframe thead th {\n        text-align: right;\n    }\n</style>\n<table border=\"1\" class=\"dataframe\">\n  <thead>\n    <tr style=\"text-align: right;\">\n      <th></th>\n      <th>Algorithm</th>\n      <th>Accuracy</th>\n      <th>Precision</th>\n      <th>Accuracy_scaling_x</th>\n      <th>Precision_scaling_x</th>\n      <th>Accuracy_scaling_y</th>\n      <th>Precision_scaling_y</th>\n      <th>Accuracy_num_chars</th>\n      <th>Precision_num_chars</th>\n    </tr>\n  </thead>\n  <tbody>\n    <tr>\n      <th>0</th>\n      <td>KN</td>\n      <td>0.905222</td>\n      <td>1.000000</td>\n      <td>0.905222</td>\n      <td>1.000000</td>\n      <td>0.905222</td>\n      <td>1.000000</td>\n      <td>0.905222</td>\n      <td>1.000000</td>\n    </tr>\n    <tr>\n      <th>1</th>\n      <td>NB</td>\n      <td>0.970986</td>\n      <td>1.000000</td>\n      <td>0.970986</td>\n      <td>1.000000</td>\n      <td>0.970986</td>\n      <td>1.000000</td>\n      <td>0.970986</td>\n      <td>1.000000</td>\n    </tr>\n    <tr>\n      <th>2</th>\n      <td>RF</td>\n      <td>0.975822</td>\n      <td>0.982906</td>\n      <td>0.975822</td>\n      <td>0.982906</td>\n      <td>0.975822</td>\n      <td>0.982906</td>\n      <td>0.975822</td>\n      <td>0.982906</td>\n    </tr>\n    <tr>\n      <th>3</th>\n      <td>SVC</td>\n      <td>0.975822</td>\n      <td>0.974790</td>\n      <td>0.975822</td>\n      <td>0.974790</td>\n      <td>0.975822</td>\n      <td>0.974790</td>\n      <td>0.975822</td>\n      <td>0.974790</td>\n    </tr>\n    <tr>\n      <th>4</th>\n      <td>ETC</td>\n      <td>0.974855</td>\n      <td>0.974576</td>\n      <td>0.974855</td>\n      <td>0.974576</td>\n      <td>0.974855</td>\n      <td>0.974576</td>\n      <td>0.974855</td>\n      <td>0.974576</td>\n    </tr>\n    <tr>\n      <th>5</th>\n      <td>LR</td>\n      <td>0.958414</td>\n      <td>0.970297</td>\n      <td>0.958414</td>\n      <td>0.970297</td>\n      <td>0.958414</td>\n      <td>0.970297</td>\n      <td>0.958414</td>\n      <td>0.970297</td>\n    </tr>\n    <tr>\n      <th>6</th>\n      <td>AdaBoost</td>\n      <td>0.960348</td>\n      <td>0.929204</td>\n      <td>0.960348</td>\n      <td>0.929204</td>\n      <td>0.960348</td>\n      <td>0.929204</td>\n      <td>0.960348</td>\n      <td>0.929204</td>\n    </tr>\n    <tr>\n      <th>7</th>\n      <td>xgb</td>\n      <td>0.967118</td>\n      <td>0.926230</td>\n      <td>0.967118</td>\n      <td>0.926230</td>\n      <td>0.967118</td>\n      <td>0.926230</td>\n      <td>0.967118</td>\n      <td>0.926230</td>\n    </tr>\n    <tr>\n      <th>8</th>\n      <td>GBDT</td>\n      <td>0.946809</td>\n      <td>0.919192</td>\n      <td>0.946809</td>\n      <td>0.919192</td>\n      <td>0.946809</td>\n      <td>0.919192</td>\n      <td>0.946809</td>\n      <td>0.919192</td>\n    </tr>\n    <tr>\n      <th>9</th>\n      <td>BgC</td>\n      <td>0.958414</td>\n      <td>0.868217</td>\n      <td>0.958414</td>\n      <td>0.868217</td>\n      <td>0.958414</td>\n      <td>0.868217</td>\n      <td>0.958414</td>\n      <td>0.868217</td>\n    </tr>\n    <tr>\n      <th>10</th>\n      <td>DT</td>\n      <td>0.932302</td>\n      <td>0.833333</td>\n      <td>0.932302</td>\n      <td>0.833333</td>\n      <td>0.932302</td>\n      <td>0.833333</td>\n      <td>0.932302</td>\n      <td>0.833333</td>\n    </tr>\n  </tbody>\n</table>\n</div>"
     },
     "execution_count": 92,
     "metadata": {},
     "output_type": "execute_result"
    }
   ],
   "source": [
    "new_df_scaled.merge(temp_df,on='Algorithm')"
   ]
  },
  {
   "cell_type": "code",
   "execution_count": 93,
   "id": "dd092029",
   "metadata": {
    "ExecuteTime": {
     "end_time": "2024-04-07T16:40:43.464412429Z",
     "start_time": "2024-04-07T16:40:43.310197587Z"
    }
   },
   "outputs": [],
   "source": [
    "# Voting Classifier\n",
    "svc = SVC(kernel='sigmoid', gamma=1.0,probability=True)\n",
    "mnb = MultinomialNB()\n",
    "etc = ExtraTreesClassifier(n_estimators=50, random_state=2)\n",
    "\n",
    "from sklearn.ensemble import VotingClassifier"
   ]
  },
  {
   "cell_type": "code",
   "execution_count": 94,
   "id": "a08d7fe4",
   "metadata": {
    "ExecuteTime": {
     "end_time": "2024-04-07T16:40:44.737692497Z",
     "start_time": "2024-04-07T16:40:44.631896857Z"
    }
   },
   "outputs": [],
   "source": [
    "voting = VotingClassifier(estimators=[('svm', svc), ('nb', mnb), ('et', etc)],voting='soft')"
   ]
  },
  {
   "cell_type": "code",
   "execution_count": 95,
   "id": "f2a74210",
   "metadata": {
    "ExecuteTime": {
     "end_time": "2024-04-07T16:41:35.893869027Z",
     "start_time": "2024-04-07T16:40:45.514427701Z"
    }
   },
   "outputs": [
    {
     "data": {
      "text/plain": "VotingClassifier(estimators=[('svm',\n                              SVC(gamma=1.0, kernel='sigmoid',\n                                  probability=True)),\n                             ('nb', MultinomialNB()),\n                             ('et',\n                              ExtraTreesClassifier(n_estimators=50,\n                                                   random_state=2))],\n                 voting='soft')",
      "text/html": "<style>#sk-container-id-1 {\n  /* Definition of color scheme common for light and dark mode */\n  --sklearn-color-text: black;\n  --sklearn-color-line: gray;\n  /* Definition of color scheme for unfitted estimators */\n  --sklearn-color-unfitted-level-0: #fff5e6;\n  --sklearn-color-unfitted-level-1: #f6e4d2;\n  --sklearn-color-unfitted-level-2: #ffe0b3;\n  --sklearn-color-unfitted-level-3: chocolate;\n  /* Definition of color scheme for fitted estimators */\n  --sklearn-color-fitted-level-0: #f0f8ff;\n  --sklearn-color-fitted-level-1: #d4ebff;\n  --sklearn-color-fitted-level-2: #b3dbfd;\n  --sklearn-color-fitted-level-3: cornflowerblue;\n\n  /* Specific color for light theme */\n  --sklearn-color-text-on-default-background: var(--sg-text-color, var(--theme-code-foreground, var(--jp-content-font-color1, black)));\n  --sklearn-color-background: var(--sg-background-color, var(--theme-background, var(--jp-layout-color0, white)));\n  --sklearn-color-border-box: var(--sg-text-color, var(--theme-code-foreground, var(--jp-content-font-color1, black)));\n  --sklearn-color-icon: #696969;\n\n  @media (prefers-color-scheme: dark) {\n    /* Redefinition of color scheme for dark theme */\n    --sklearn-color-text-on-default-background: var(--sg-text-color, var(--theme-code-foreground, var(--jp-content-font-color1, white)));\n    --sklearn-color-background: var(--sg-background-color, var(--theme-background, var(--jp-layout-color0, #111)));\n    --sklearn-color-border-box: var(--sg-text-color, var(--theme-code-foreground, var(--jp-content-font-color1, white)));\n    --sklearn-color-icon: #878787;\n  }\n}\n\n#sk-container-id-1 {\n  color: var(--sklearn-color-text);\n}\n\n#sk-container-id-1 pre {\n  padding: 0;\n}\n\n#sk-container-id-1 input.sk-hidden--visually {\n  border: 0;\n  clip: rect(1px 1px 1px 1px);\n  clip: rect(1px, 1px, 1px, 1px);\n  height: 1px;\n  margin: -1px;\n  overflow: hidden;\n  padding: 0;\n  position: absolute;\n  width: 1px;\n}\n\n#sk-container-id-1 div.sk-dashed-wrapped {\n  border: 1px dashed var(--sklearn-color-line);\n  margin: 0 0.4em 0.5em 0.4em;\n  box-sizing: border-box;\n  padding-bottom: 0.4em;\n  background-color: var(--sklearn-color-background);\n}\n\n#sk-container-id-1 div.sk-container {\n  /* jupyter's `normalize.less` sets `[hidden] { display: none; }`\n     but bootstrap.min.css set `[hidden] { display: none !important; }`\n     so we also need the `!important` here to be able to override the\n     default hidden behavior on the sphinx rendered scikit-learn.org.\n     See: https://github.com/scikit-learn/scikit-learn/issues/21755 */\n  display: inline-block !important;\n  position: relative;\n}\n\n#sk-container-id-1 div.sk-text-repr-fallback {\n  display: none;\n}\n\ndiv.sk-parallel-item,\ndiv.sk-serial,\ndiv.sk-item {\n  /* draw centered vertical line to link estimators */\n  background-image: linear-gradient(var(--sklearn-color-text-on-default-background), var(--sklearn-color-text-on-default-background));\n  background-size: 2px 100%;\n  background-repeat: no-repeat;\n  background-position: center center;\n}\n\n/* Parallel-specific style estimator block */\n\n#sk-container-id-1 div.sk-parallel-item::after {\n  content: \"\";\n  width: 100%;\n  border-bottom: 2px solid var(--sklearn-color-text-on-default-background);\n  flex-grow: 1;\n}\n\n#sk-container-id-1 div.sk-parallel {\n  display: flex;\n  align-items: stretch;\n  justify-content: center;\n  background-color: var(--sklearn-color-background);\n  position: relative;\n}\n\n#sk-container-id-1 div.sk-parallel-item {\n  display: flex;\n  flex-direction: column;\n}\n\n#sk-container-id-1 div.sk-parallel-item:first-child::after {\n  align-self: flex-end;\n  width: 50%;\n}\n\n#sk-container-id-1 div.sk-parallel-item:last-child::after {\n  align-self: flex-start;\n  width: 50%;\n}\n\n#sk-container-id-1 div.sk-parallel-item:only-child::after {\n  width: 0;\n}\n\n/* Serial-specific style estimator block */\n\n#sk-container-id-1 div.sk-serial {\n  display: flex;\n  flex-direction: column;\n  align-items: center;\n  background-color: var(--sklearn-color-background);\n  padding-right: 1em;\n  padding-left: 1em;\n}\n\n\n/* Toggleable style: style used for estimator/Pipeline/ColumnTransformer box that is\nclickable and can be expanded/collapsed.\n- Pipeline and ColumnTransformer use this feature and define the default style\n- Estimators will overwrite some part of the style using the `sk-estimator` class\n*/\n\n/* Pipeline and ColumnTransformer style (default) */\n\n#sk-container-id-1 div.sk-toggleable {\n  /* Default theme specific background. It is overwritten whether we have a\n  specific estimator or a Pipeline/ColumnTransformer */\n  background-color: var(--sklearn-color-background);\n}\n\n/* Toggleable label */\n#sk-container-id-1 label.sk-toggleable__label {\n  cursor: pointer;\n  display: block;\n  width: 100%;\n  margin-bottom: 0;\n  padding: 0.5em;\n  box-sizing: border-box;\n  text-align: center;\n}\n\n#sk-container-id-1 label.sk-toggleable__label-arrow:before {\n  /* Arrow on the left of the label */\n  content: \"▸\";\n  float: left;\n  margin-right: 0.25em;\n  color: var(--sklearn-color-icon);\n}\n\n#sk-container-id-1 label.sk-toggleable__label-arrow:hover:before {\n  color: var(--sklearn-color-text);\n}\n\n/* Toggleable content - dropdown */\n\n#sk-container-id-1 div.sk-toggleable__content {\n  max-height: 0;\n  max-width: 0;\n  overflow: hidden;\n  text-align: left;\n  /* unfitted */\n  background-color: var(--sklearn-color-unfitted-level-0);\n}\n\n#sk-container-id-1 div.sk-toggleable__content.fitted {\n  /* fitted */\n  background-color: var(--sklearn-color-fitted-level-0);\n}\n\n#sk-container-id-1 div.sk-toggleable__content pre {\n  margin: 0.2em;\n  border-radius: 0.25em;\n  color: var(--sklearn-color-text);\n  /* unfitted */\n  background-color: var(--sklearn-color-unfitted-level-0);\n}\n\n#sk-container-id-1 div.sk-toggleable__content.fitted pre {\n  /* unfitted */\n  background-color: var(--sklearn-color-fitted-level-0);\n}\n\n#sk-container-id-1 input.sk-toggleable__control:checked~div.sk-toggleable__content {\n  /* Expand drop-down */\n  max-height: 200px;\n  max-width: 100%;\n  overflow: auto;\n}\n\n#sk-container-id-1 input.sk-toggleable__control:checked~label.sk-toggleable__label-arrow:before {\n  content: \"▾\";\n}\n\n/* Pipeline/ColumnTransformer-specific style */\n\n#sk-container-id-1 div.sk-label input.sk-toggleable__control:checked~label.sk-toggleable__label {\n  color: var(--sklearn-color-text);\n  background-color: var(--sklearn-color-unfitted-level-2);\n}\n\n#sk-container-id-1 div.sk-label.fitted input.sk-toggleable__control:checked~label.sk-toggleable__label {\n  background-color: var(--sklearn-color-fitted-level-2);\n}\n\n/* Estimator-specific style */\n\n/* Colorize estimator box */\n#sk-container-id-1 div.sk-estimator input.sk-toggleable__control:checked~label.sk-toggleable__label {\n  /* unfitted */\n  background-color: var(--sklearn-color-unfitted-level-2);\n}\n\n#sk-container-id-1 div.sk-estimator.fitted input.sk-toggleable__control:checked~label.sk-toggleable__label {\n  /* fitted */\n  background-color: var(--sklearn-color-fitted-level-2);\n}\n\n#sk-container-id-1 div.sk-label label.sk-toggleable__label,\n#sk-container-id-1 div.sk-label label {\n  /* The background is the default theme color */\n  color: var(--sklearn-color-text-on-default-background);\n}\n\n/* On hover, darken the color of the background */\n#sk-container-id-1 div.sk-label:hover label.sk-toggleable__label {\n  color: var(--sklearn-color-text);\n  background-color: var(--sklearn-color-unfitted-level-2);\n}\n\n/* Label box, darken color on hover, fitted */\n#sk-container-id-1 div.sk-label.fitted:hover label.sk-toggleable__label.fitted {\n  color: var(--sklearn-color-text);\n  background-color: var(--sklearn-color-fitted-level-2);\n}\n\n/* Estimator label */\n\n#sk-container-id-1 div.sk-label label {\n  font-family: monospace;\n  font-weight: bold;\n  display: inline-block;\n  line-height: 1.2em;\n}\n\n#sk-container-id-1 div.sk-label-container {\n  text-align: center;\n}\n\n/* Estimator-specific */\n#sk-container-id-1 div.sk-estimator {\n  font-family: monospace;\n  border: 1px dotted var(--sklearn-color-border-box);\n  border-radius: 0.25em;\n  box-sizing: border-box;\n  margin-bottom: 0.5em;\n  /* unfitted */\n  background-color: var(--sklearn-color-unfitted-level-0);\n}\n\n#sk-container-id-1 div.sk-estimator.fitted {\n  /* fitted */\n  background-color: var(--sklearn-color-fitted-level-0);\n}\n\n/* on hover */\n#sk-container-id-1 div.sk-estimator:hover {\n  /* unfitted */\n  background-color: var(--sklearn-color-unfitted-level-2);\n}\n\n#sk-container-id-1 div.sk-estimator.fitted:hover {\n  /* fitted */\n  background-color: var(--sklearn-color-fitted-level-2);\n}\n\n/* Specification for estimator info (e.g. \"i\" and \"?\") */\n\n/* Common style for \"i\" and \"?\" */\n\n.sk-estimator-doc-link,\na:link.sk-estimator-doc-link,\na:visited.sk-estimator-doc-link {\n  float: right;\n  font-size: smaller;\n  line-height: 1em;\n  font-family: monospace;\n  background-color: var(--sklearn-color-background);\n  border-radius: 1em;\n  height: 1em;\n  width: 1em;\n  text-decoration: none !important;\n  margin-left: 1ex;\n  /* unfitted */\n  border: var(--sklearn-color-unfitted-level-1) 1pt solid;\n  color: var(--sklearn-color-unfitted-level-1);\n}\n\n.sk-estimator-doc-link.fitted,\na:link.sk-estimator-doc-link.fitted,\na:visited.sk-estimator-doc-link.fitted {\n  /* fitted */\n  border: var(--sklearn-color-fitted-level-1) 1pt solid;\n  color: var(--sklearn-color-fitted-level-1);\n}\n\n/* On hover */\ndiv.sk-estimator:hover .sk-estimator-doc-link:hover,\n.sk-estimator-doc-link:hover,\ndiv.sk-label-container:hover .sk-estimator-doc-link:hover,\n.sk-estimator-doc-link:hover {\n  /* unfitted */\n  background-color: var(--sklearn-color-unfitted-level-3);\n  color: var(--sklearn-color-background);\n  text-decoration: none;\n}\n\ndiv.sk-estimator.fitted:hover .sk-estimator-doc-link.fitted:hover,\n.sk-estimator-doc-link.fitted:hover,\ndiv.sk-label-container:hover .sk-estimator-doc-link.fitted:hover,\n.sk-estimator-doc-link.fitted:hover {\n  /* fitted */\n  background-color: var(--sklearn-color-fitted-level-3);\n  color: var(--sklearn-color-background);\n  text-decoration: none;\n}\n\n/* Span, style for the box shown on hovering the info icon */\n.sk-estimator-doc-link span {\n  display: none;\n  z-index: 9999;\n  position: relative;\n  font-weight: normal;\n  right: .2ex;\n  padding: .5ex;\n  margin: .5ex;\n  width: min-content;\n  min-width: 20ex;\n  max-width: 50ex;\n  color: var(--sklearn-color-text);\n  box-shadow: 2pt 2pt 4pt #999;\n  /* unfitted */\n  background: var(--sklearn-color-unfitted-level-0);\n  border: .5pt solid var(--sklearn-color-unfitted-level-3);\n}\n\n.sk-estimator-doc-link.fitted span {\n  /* fitted */\n  background: var(--sklearn-color-fitted-level-0);\n  border: var(--sklearn-color-fitted-level-3);\n}\n\n.sk-estimator-doc-link:hover span {\n  display: block;\n}\n\n/* \"?\"-specific style due to the `<a>` HTML tag */\n\n#sk-container-id-1 a.estimator_doc_link {\n  float: right;\n  font-size: 1rem;\n  line-height: 1em;\n  font-family: monospace;\n  background-color: var(--sklearn-color-background);\n  border-radius: 1rem;\n  height: 1rem;\n  width: 1rem;\n  text-decoration: none;\n  /* unfitted */\n  color: var(--sklearn-color-unfitted-level-1);\n  border: var(--sklearn-color-unfitted-level-1) 1pt solid;\n}\n\n#sk-container-id-1 a.estimator_doc_link.fitted {\n  /* fitted */\n  border: var(--sklearn-color-fitted-level-1) 1pt solid;\n  color: var(--sklearn-color-fitted-level-1);\n}\n\n/* On hover */\n#sk-container-id-1 a.estimator_doc_link:hover {\n  /* unfitted */\n  background-color: var(--sklearn-color-unfitted-level-3);\n  color: var(--sklearn-color-background);\n  text-decoration: none;\n}\n\n#sk-container-id-1 a.estimator_doc_link.fitted:hover {\n  /* fitted */\n  background-color: var(--sklearn-color-fitted-level-3);\n}\n</style><div id=\"sk-container-id-1\" class=\"sk-top-container\"><div class=\"sk-text-repr-fallback\"><pre>VotingClassifier(estimators=[(&#x27;svm&#x27;,\n                              SVC(gamma=1.0, kernel=&#x27;sigmoid&#x27;,\n                                  probability=True)),\n                             (&#x27;nb&#x27;, MultinomialNB()),\n                             (&#x27;et&#x27;,\n                              ExtraTreesClassifier(n_estimators=50,\n                                                   random_state=2))],\n                 voting=&#x27;soft&#x27;)</pre><b>In a Jupyter environment, please rerun this cell to show the HTML representation or trust the notebook. <br />On GitHub, the HTML representation is unable to render, please try loading this page with nbviewer.org.</b></div><div class=\"sk-container\" hidden><div class=\"sk-item sk-dashed-wrapped\"><div class=\"sk-label-container\"><div class=\"sk-label fitted sk-toggleable\"><input class=\"sk-toggleable__control sk-hidden--visually\" id=\"sk-estimator-id-1\" type=\"checkbox\" ><label for=\"sk-estimator-id-1\" class=\"sk-toggleable__label fitted sk-toggleable__label-arrow fitted\">&nbsp;&nbsp;VotingClassifier<a class=\"sk-estimator-doc-link fitted\" rel=\"noreferrer\" target=\"_blank\" href=\"https://scikit-learn.org/1.4/modules/generated/sklearn.ensemble.VotingClassifier.html\">?<span>Documentation for VotingClassifier</span></a><span class=\"sk-estimator-doc-link fitted\">i<span>Fitted</span></span></label><div class=\"sk-toggleable__content fitted\"><pre>VotingClassifier(estimators=[(&#x27;svm&#x27;,\n                              SVC(gamma=1.0, kernel=&#x27;sigmoid&#x27;,\n                                  probability=True)),\n                             (&#x27;nb&#x27;, MultinomialNB()),\n                             (&#x27;et&#x27;,\n                              ExtraTreesClassifier(n_estimators=50,\n                                                   random_state=2))],\n                 voting=&#x27;soft&#x27;)</pre></div> </div></div><div class=\"sk-parallel\"><div class=\"sk-parallel-item\"><div class=\"sk-item\"><div class=\"sk-label-container\"><div class=\"sk-label fitted sk-toggleable\"><label>svm</label></div></div><div class=\"sk-serial\"><div class=\"sk-item\"><div class=\"sk-estimator fitted sk-toggleable\"><input class=\"sk-toggleable__control sk-hidden--visually\" id=\"sk-estimator-id-2\" type=\"checkbox\" ><label for=\"sk-estimator-id-2\" class=\"sk-toggleable__label fitted sk-toggleable__label-arrow fitted\">&nbsp;SVC<a class=\"sk-estimator-doc-link fitted\" rel=\"noreferrer\" target=\"_blank\" href=\"https://scikit-learn.org/1.4/modules/generated/sklearn.svm.SVC.html\">?<span>Documentation for SVC</span></a></label><div class=\"sk-toggleable__content fitted\"><pre>SVC(gamma=1.0, kernel=&#x27;sigmoid&#x27;, probability=True)</pre></div> </div></div></div></div></div><div class=\"sk-parallel-item\"><div class=\"sk-item\"><div class=\"sk-label-container\"><div class=\"sk-label fitted sk-toggleable\"><label>nb</label></div></div><div class=\"sk-serial\"><div class=\"sk-item\"><div class=\"sk-estimator fitted sk-toggleable\"><input class=\"sk-toggleable__control sk-hidden--visually\" id=\"sk-estimator-id-3\" type=\"checkbox\" ><label for=\"sk-estimator-id-3\" class=\"sk-toggleable__label fitted sk-toggleable__label-arrow fitted\">&nbsp;MultinomialNB<a class=\"sk-estimator-doc-link fitted\" rel=\"noreferrer\" target=\"_blank\" href=\"https://scikit-learn.org/1.4/modules/generated/sklearn.naive_bayes.MultinomialNB.html\">?<span>Documentation for MultinomialNB</span></a></label><div class=\"sk-toggleable__content fitted\"><pre>MultinomialNB()</pre></div> </div></div></div></div></div><div class=\"sk-parallel-item\"><div class=\"sk-item\"><div class=\"sk-label-container\"><div class=\"sk-label fitted sk-toggleable\"><label>et</label></div></div><div class=\"sk-serial\"><div class=\"sk-item\"><div class=\"sk-estimator fitted sk-toggleable\"><input class=\"sk-toggleable__control sk-hidden--visually\" id=\"sk-estimator-id-4\" type=\"checkbox\" ><label for=\"sk-estimator-id-4\" class=\"sk-toggleable__label fitted sk-toggleable__label-arrow fitted\">&nbsp;ExtraTreesClassifier<a class=\"sk-estimator-doc-link fitted\" rel=\"noreferrer\" target=\"_blank\" href=\"https://scikit-learn.org/1.4/modules/generated/sklearn.ensemble.ExtraTreesClassifier.html\">?<span>Documentation for ExtraTreesClassifier</span></a></label><div class=\"sk-toggleable__content fitted\"><pre>ExtraTreesClassifier(n_estimators=50, random_state=2)</pre></div> </div></div></div></div></div></div></div></div></div>"
     },
     "execution_count": 95,
     "metadata": {},
     "output_type": "execute_result"
    }
   ],
   "source": [
    "voting.fit(X_train,y_train)"
   ]
  },
  {
   "cell_type": "code",
   "execution_count": 96,
   "id": "465b16f8",
   "metadata": {
    "ExecuteTime": {
     "end_time": "2024-04-07T16:41:41.494250979Z",
     "start_time": "2024-04-07T16:41:39.708749931Z"
    }
   },
   "outputs": [
    {
     "name": "stdout",
     "output_type": "stream",
     "text": [
      "Accuracy 0.9816247582205029\n",
      "Precision 0.9917355371900827\n"
     ]
    }
   ],
   "source": [
    "y_pred = voting.predict(X_test)\n",
    "print(\"Accuracy\",accuracy_score(y_test,y_pred))\n",
    "print(\"Precision\",precision_score(y_test,y_pred))"
   ]
  },
  {
   "cell_type": "code",
   "execution_count": 97,
   "id": "9df1eefd",
   "metadata": {
    "ExecuteTime": {
     "end_time": "2024-04-07T16:41:42.717551449Z",
     "start_time": "2024-04-07T16:41:42.599192788Z"
    }
   },
   "outputs": [],
   "source": [
    "# Applying stacking\n",
    "estimators=[('svm', svc), ('nb', mnb), ('et', etc)]\n",
    "final_estimator=RandomForestClassifier()"
   ]
  },
  {
   "cell_type": "code",
   "execution_count": 98,
   "id": "4cd689a2",
   "metadata": {
    "ExecuteTime": {
     "end_time": "2024-04-07T16:41:44.454281968Z",
     "start_time": "2024-04-07T16:41:44.242030354Z"
    }
   },
   "outputs": [],
   "source": [
    "from sklearn.ensemble import StackingClassifier"
   ]
  },
  {
   "cell_type": "code",
   "execution_count": 99,
   "id": "08c14dd5",
   "metadata": {
    "ExecuteTime": {
     "end_time": "2024-04-07T16:41:45.268332715Z",
     "start_time": "2024-04-07T16:41:45.088192127Z"
    }
   },
   "outputs": [],
   "source": [
    "clf = StackingClassifier(estimators=estimators, final_estimator=final_estimator)"
   ]
  },
  {
   "cell_type": "code",
   "execution_count": 100,
   "id": "2c841ef0",
   "metadata": {
    "ExecuteTime": {
     "end_time": "2024-04-07T16:45:31.169061426Z",
     "start_time": "2024-04-07T16:41:46.266022481Z"
    }
   },
   "outputs": [
    {
     "name": "stdout",
     "output_type": "stream",
     "text": [
      "Accuracy 0.9806576402321083\n",
      "Precision 0.946969696969697\n"
     ]
    }
   ],
   "source": [
    "clf.fit(X_train,y_train)\n",
    "y_pred = clf.predict(X_test)\n",
    "print(\"Accuracy\",accuracy_score(y_test,y_pred))\n",
    "print(\"Precision\",precision_score(y_test,y_pred))"
   ]
  },
  {
   "cell_type": "code",
   "execution_count": 102,
   "id": "06e4f088",
   "metadata": {
    "ExecuteTime": {
     "end_time": "2024-04-07T16:46:01.694936485Z",
     "start_time": "2024-04-07T16:46:01.454994071Z"
    }
   },
   "outputs": [
    {
     "name": "stdout",
     "output_type": "stream",
     "text": [
      "fsdfs\n",
      "fsdfs\n"
     ]
    }
   ],
   "source": [
    "import pickle\n",
    "pickle.dump(tfidf,open('vectorizer.pkl','wb'))\n",
    "print(\"fsdfs\")\n",
    "pickle.dump(mnb,open('model.pkl','wb'))\n",
    "print(\"fsdfs\")"
   ]
  },
  {
   "cell_type": "code",
   "execution_count": 85,
   "id": "a36a3173",
   "metadata": {
    "ExecuteTime": {
     "end_time": "2024-04-07T16:19:53.593228909Z",
     "start_time": "2024-04-07T16:19:53.267496041Z"
    }
   },
   "outputs": [],
   "source": []
  }
 ],
 "metadata": {
  "kernelspec": {
   "display_name": "Python 3",
   "language": "python",
   "name": "python3"
  },
  "language_info": {
   "codemirror_mode": {
    "name": "ipython",
    "version": 3
   },
   "file_extension": ".py",
   "mimetype": "text/x-python",
   "name": "python",
   "nbconvert_exporter": "python",
   "pygments_lexer": "ipython3",
   "version": "3.8.8"
  }
 },
 "nbformat": 4,
 "nbformat_minor": 5
}
